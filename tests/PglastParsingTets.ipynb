{
 "cells": [
  {
   "cell_type": "markdown",
   "metadata": {},
   "source": [
    "# PostgreSQL Languages AST parser"
   ]
  },
  {
   "cell_type": "code",
   "execution_count": 1,
   "metadata": {},
   "outputs": [],
   "source": [
    "%load_ext autoreload\n",
    "%autoreload 2"
   ]
  },
  {
   "cell_type": "code",
   "execution_count": 2,
   "metadata": {},
   "outputs": [],
   "source": [
    "import json\n",
    "\n",
    "import pglast"
   ]
  },
  {
   "cell_type": "markdown",
   "metadata": {},
   "source": [
    "## SELECT"
   ]
  },
  {
   "cell_type": "code",
   "execution_count": 3,
   "metadata": {},
   "outputs": [
    {
     "data": {
      "text/plain": [
       "{'version': 170000,\n",
       " 'stmts': [{'stmt': {'SelectStmt': {'targetList': [{'ResTarget': {'val': {'ColumnRef': {'fields': [{'A_Star': {}}],\n",
       "          'location': 7}},\n",
       "        'location': 7}}],\n",
       "     'fromClause': [{'RangeVar': {'relname': 'foo',\n",
       "        'inh': True,\n",
       "        'relpersistence': 'p',\n",
       "        'location': 14}}],\n",
       "     'limitOption': 'LIMIT_OPTION_DEFAULT',\n",
       "     'op': 'SETOP_NONE'}}}]}"
      ]
     },
     "execution_count": 3,
     "metadata": {},
     "output_type": "execute_result"
    }
   ],
   "source": [
    "parse_tree = pglast.parser.parse_sql_json(\"SELECT * FROM foo\")\n",
    "json.loads(parse_tree)"
   ]
  },
  {
   "cell_type": "code",
   "execution_count": 4,
   "metadata": {},
   "outputs": [
    {
     "data": {
      "text/plain": [
       "{'version': 170000,\n",
       " 'stmts': [{'stmt': {'SelectStmt': {'targetList': [{'ResTarget': {'val': {'ColumnRef': {'fields': [{'String': {'sval': 'foo'}}],\n",
       "          'location': 7}},\n",
       "        'location': 7}}],\n",
       "     'fromClause': [{'RangeVar': {'relname': 'bar',\n",
       "        'inh': True,\n",
       "        'relpersistence': 'p',\n",
       "        'location': 16}}],\n",
       "     'limitOption': 'LIMIT_OPTION_DEFAULT',\n",
       "     'op': 'SETOP_NONE'}}}]}"
      ]
     },
     "execution_count": 4,
     "metadata": {},
     "output_type": "execute_result"
    }
   ],
   "source": [
    "parse_tree = pglast.parser.parse_sql_json(\"SELECT foo FROM bar\")\n",
    "json.loads(parse_tree)"
   ]
  },
  {
   "cell_type": "code",
   "execution_count": 5,
   "metadata": {},
   "outputs": [
    {
     "data": {
      "text/plain": [
       "{'version': 170000,\n",
       " 'stmts': [{'stmt': {'SelectStmt': {'targetList': [{'ResTarget': {'val': {'ColumnRef': {'fields': [{'String': {'sval': 'b'}},\n",
       "           {'String': {'sval': 'foo'}}],\n",
       "          'location': 7}},\n",
       "        'location': 7}}],\n",
       "     'fromClause': [{'RangeVar': {'relname': 'bar',\n",
       "        'inh': True,\n",
       "        'relpersistence': 'p',\n",
       "        'alias': {'aliasname': 'b'},\n",
       "        'location': 18}}],\n",
       "     'limitOption': 'LIMIT_OPTION_DEFAULT',\n",
       "     'op': 'SETOP_NONE'}}}]}"
      ]
     },
     "execution_count": 5,
     "metadata": {},
     "output_type": "execute_result"
    }
   ],
   "source": [
    "parse_tree = pglast.parser.parse_sql_json(\"SELECT b.foo FROM bar b\")\n",
    "json.loads(parse_tree)"
   ]
  },
  {
   "cell_type": "code",
   "execution_count": 6,
   "metadata": {},
   "outputs": [
    {
     "data": {
      "text/plain": [
       "{'version': 170000,\n",
       " 'stmts': [{'stmt': {'SelectStmt': {'targetList': [{'ResTarget': {'name': 'i',\n",
       "        'val': {'ColumnRef': {'fields': [{'String': {'sval': 'id'}}],\n",
       "          'location': 7}},\n",
       "        'location': 7}}],\n",
       "     'fromClause': [{'RangeVar': {'relname': 'foo',\n",
       "        'inh': True,\n",
       "        'relpersistence': 'p',\n",
       "        'location': 20}}],\n",
       "     'limitOption': 'LIMIT_OPTION_DEFAULT',\n",
       "     'op': 'SETOP_NONE'}}}]}"
      ]
     },
     "execution_count": 6,
     "metadata": {},
     "output_type": "execute_result"
    }
   ],
   "source": [
    "parse_tree = pglast.parser.parse_sql_json(\"SELECT id AS i FROM foo\")\n",
    "json.loads(parse_tree)"
   ]
  },
  {
   "cell_type": "code",
   "execution_count": 7,
   "metadata": {},
   "outputs": [
    {
     "data": {
      "text/plain": [
       "{'version': 170000,\n",
       " 'stmts': [{'stmt': {'SelectStmt': {'targetList': [{'ResTarget': {'name': 'i',\n",
       "        'val': {'ColumnRef': {'fields': [{'String': {'sval': 'id'}}],\n",
       "          'location': 7}},\n",
       "        'location': 7}},\n",
       "      {'ResTarget': {'name': 'k',\n",
       "        'val': {'ColumnRef': {'fields': [{'String': {'sval': 'key'}}],\n",
       "          'location': 16}},\n",
       "        'location': 16}}],\n",
       "     'fromClause': [{'RangeVar': {'relname': 'foo',\n",
       "        'inh': True,\n",
       "        'relpersistence': 'p',\n",
       "        'location': 30}}],\n",
       "     'limitOption': 'LIMIT_OPTION_DEFAULT',\n",
       "     'op': 'SETOP_NONE'}}}]}"
      ]
     },
     "execution_count": 7,
     "metadata": {},
     "output_type": "execute_result"
    }
   ],
   "source": [
    "parse_tree = pglast.parser.parse_sql_json(\"SELECT id AS i, key AS k FROM foo\")\n",
    "json.loads(parse_tree)"
   ]
  },
  {
   "cell_type": "code",
   "execution_count": 8,
   "metadata": {},
   "outputs": [
    {
     "data": {
      "text/plain": [
       "{'version': 170000,\n",
       " 'stmts': [{'stmt': {'SelectStmt': {'targetList': [{'ResTarget': {'val': {'FuncCall': {'funcname': [{'String': {'sval': 'min'}}],\n",
       "          'args': [{'ColumnRef': {'fields': [{'String': {'sval': 'id'}}],\n",
       "             'location': 11}}],\n",
       "          'funcformat': 'COERCE_EXPLICIT_CALL',\n",
       "          'location': 7}},\n",
       "        'location': 7}}],\n",
       "     'fromClause': [{'RangeVar': {'relname': 'foo',\n",
       "        'inh': True,\n",
       "        'relpersistence': 'p',\n",
       "        'location': 20}}],\n",
       "     'limitOption': 'LIMIT_OPTION_DEFAULT',\n",
       "     'op': 'SETOP_NONE'}}}]}"
      ]
     },
     "execution_count": 8,
     "metadata": {},
     "output_type": "execute_result"
    }
   ],
   "source": [
    "parse_tree = pglast.parser.parse_sql_json(\"SELECT MIN(id) FROM foo\")\n",
    "json.loads(parse_tree)"
   ]
  },
  {
   "cell_type": "code",
   "execution_count": 9,
   "metadata": {},
   "outputs": [
    {
     "data": {
      "text/plain": [
       "{'version': 170000,\n",
       " 'stmts': [{'stmt': {'SelectStmt': {'targetList': [{'ResTarget': {'val': {'A_Expr': {'kind': 'AEXPR_OP',\n",
       "          'name': [{'String': {'sval': '+'}}],\n",
       "          'lexpr': {'ColumnRef': {'fields': [{'String': {'sval': 'id'}}],\n",
       "            'location': 7}},\n",
       "          'rexpr': {'SubLink': {'subLinkType': 'EXPR_SUBLINK',\n",
       "            'subselect': {'SelectStmt': {'targetList': [{'ResTarget': {'val': {'FuncCall': {'funcname': [{'String': {'sval': 'min'}}],\n",
       "                   'args': [{'ColumnRef': {'fields': [{'String': {'sval': 'id'}}],\n",
       "                      'location': 24}}],\n",
       "                   'funcformat': 'COERCE_EXPLICIT_CALL',\n",
       "                   'location': 20}},\n",
       "                 'location': 20}}],\n",
       "              'fromClause': [{'RangeVar': {'relname': 'foo',\n",
       "                 'inh': True,\n",
       "                 'relpersistence': 'p',\n",
       "                 'location': 33}}],\n",
       "              'limitOption': 'LIMIT_OPTION_DEFAULT',\n",
       "              'op': 'SETOP_NONE'}},\n",
       "            'location': 12}},\n",
       "          'location': 10}},\n",
       "        'location': 7}}],\n",
       "     'fromClause': [{'RangeVar': {'relname': 'foo',\n",
       "        'inh': True,\n",
       "        'relpersistence': 'p',\n",
       "        'location': 43}}],\n",
       "     'limitOption': 'LIMIT_OPTION_DEFAULT',\n",
       "     'op': 'SETOP_NONE'}}}]}"
      ]
     },
     "execution_count": 9,
     "metadata": {},
     "output_type": "execute_result"
    }
   ],
   "source": [
    "parse_tree = pglast.parser.parse_sql_json(\"SELECT id + (SELECT MIN(id) FROM foo) FROM foo\")\n",
    "json.loads(parse_tree)"
   ]
  },
  {
   "cell_type": "code",
   "execution_count": 10,
   "metadata": {},
   "outputs": [
    {
     "data": {
      "text/plain": [
       "{'version': 170000,\n",
       " 'stmts': [{'stmt': {'SelectStmt': {'distinctClause': [{}],\n",
       "     'targetList': [{'ResTarget': {'val': {'ColumnRef': {'fields': [{'String': {'sval': 'id'}}],\n",
       "          'location': 16}},\n",
       "        'location': 16}}],\n",
       "     'fromClause': [{'RangeVar': {'relname': 'foo',\n",
       "        'inh': True,\n",
       "        'relpersistence': 'p',\n",
       "        'location': 24}}],\n",
       "     'limitOption': 'LIMIT_OPTION_DEFAULT',\n",
       "     'op': 'SETOP_NONE'}}}]}"
      ]
     },
     "execution_count": 10,
     "metadata": {},
     "output_type": "execute_result"
    }
   ],
   "source": [
    "parse_tree = pglast.parser.parse_sql_json(\"SELECT DISTINCT id FROM foo\")\n",
    "json.loads(parse_tree)"
   ]
  },
  {
   "cell_type": "code",
   "execution_count": 11,
   "metadata": {},
   "outputs": [
    {
     "data": {
      "text/plain": [
       "{'version': 170000,\n",
       " 'stmts': [{'stmt': {'SelectStmt': {'targetList': [{'ResTarget': {'name': 'm',\n",
       "        'val': {'FuncCall': {'funcname': [{'String': {'sval': 'min'}}],\n",
       "          'args': [{'ColumnRef': {'fields': [{'String': {'sval': 'id'}}],\n",
       "             'location': 11}}],\n",
       "          'funcformat': 'COERCE_EXPLICIT_CALL',\n",
       "          'location': 7}},\n",
       "        'location': 7}}],\n",
       "     'fromClause': [{'RangeVar': {'relname': 'foo',\n",
       "        'inh': True,\n",
       "        'relpersistence': 'p',\n",
       "        'location': 25}}],\n",
       "     'limitOption': 'LIMIT_OPTION_DEFAULT',\n",
       "     'op': 'SETOP_NONE'}}}]}"
      ]
     },
     "execution_count": 11,
     "metadata": {},
     "output_type": "execute_result"
    }
   ],
   "source": [
    "parse_tree = pglast.parser.parse_sql_json(\"SELECT MIN(id) AS m FROM foo\")\n",
    "json.loads(parse_tree)"
   ]
  },
  {
   "cell_type": "code",
   "execution_count": 12,
   "metadata": {},
   "outputs": [
    {
     "data": {
      "text/plain": [
       "{'version': 170000,\n",
       " 'stmts': [{'stmt': {'SelectStmt': {'targetList': [{'ResTarget': {'val': {'FuncCall': {'funcname': [{'String': {'sval': 'count'}}],\n",
       "          'args': [{'ColumnRef': {'fields': [{'String': {'sval': 'id'}}],\n",
       "             'location': 22}}],\n",
       "          'agg_distinct': True,\n",
       "          'funcformat': 'COERCE_EXPLICIT_CALL',\n",
       "          'location': 7}},\n",
       "        'location': 7}},\n",
       "      {'ResTarget': {'val': {'FuncCall': {'funcname': [{'String': {'sval': 'min'}}],\n",
       "          'args': [{'ColumnRef': {'fields': [{'String': {'sval': 'id'}}],\n",
       "             'location': 31}}],\n",
       "          'funcformat': 'COERCE_EXPLICIT_CALL',\n",
       "          'location': 27}},\n",
       "        'location': 27}}],\n",
       "     'fromClause': [{'RangeVar': {'relname': 'foo',\n",
       "        'inh': True,\n",
       "        'relpersistence': 'p',\n",
       "        'location': 40}}],\n",
       "     'limitOption': 'LIMIT_OPTION_DEFAULT',\n",
       "     'op': 'SETOP_NONE'}}}]}"
      ]
     },
     "execution_count": 12,
     "metadata": {},
     "output_type": "execute_result"
    }
   ],
   "source": [
    "parse_tree = pglast.parser.parse_sql_json(\"SELECT COUNT(DISTINCT id), MIN(id) FROM foo\")\n",
    "json.loads(parse_tree)"
   ]
  },
  {
   "cell_type": "code",
   "execution_count": 13,
   "metadata": {},
   "outputs": [
    {
     "data": {
      "text/plain": [
       "{'version': 170000,\n",
       " 'stmts': [{'stmt': {'SelectStmt': {'targetList': [{'ResTarget': {'val': {'A_Const': {'isnull': True,\n",
       "          'location': 7}},\n",
       "        'location': 7}}],\n",
       "     'limitOption': 'LIMIT_OPTION_DEFAULT',\n",
       "     'op': 'SETOP_NONE'}}}]}"
      ]
     },
     "execution_count": 13,
     "metadata": {},
     "output_type": "execute_result"
    }
   ],
   "source": [
    "parse_tree = pglast.parser.parse_sql_json(\"SELECT NULL\")\n",
    "json.loads(parse_tree)"
   ]
  },
  {
   "cell_type": "markdown",
   "metadata": {},
   "source": [
    "## Basic predicates"
   ]
  },
  {
   "cell_type": "code",
   "execution_count": 14,
   "metadata": {},
   "outputs": [
    {
     "data": {
      "text/plain": [
       "{'version': 170000,\n",
       " 'stmts': [{'stmt': {'SelectStmt': {'targetList': [{'ResTarget': {'val': {'ColumnRef': {'fields': [{'A_Star': {}}],\n",
       "          'location': 7}},\n",
       "        'location': 7}}],\n",
       "     'fromClause': [{'RangeVar': {'relname': 'foo',\n",
       "        'inh': True,\n",
       "        'relpersistence': 'p',\n",
       "        'location': 14}},\n",
       "      {'RangeVar': {'relname': 'bar',\n",
       "        'inh': True,\n",
       "        'relpersistence': 'p',\n",
       "        'location': 19}}],\n",
       "     'whereClause': {'A_Expr': {'kind': 'AEXPR_OP',\n",
       "       'name': [{'String': {'sval': '='}}],\n",
       "       'lexpr': {'ColumnRef': {'fields': [{'String': {'sval': 'id'}}],\n",
       "         'location': 29}},\n",
       "       'rexpr': {'ColumnRef': {'fields': [{'String': {'sval': 'fkey'}}],\n",
       "         'location': 34}},\n",
       "       'location': 32}},\n",
       "     'limitOption': 'LIMIT_OPTION_DEFAULT',\n",
       "     'op': 'SETOP_NONE'}}}]}"
      ]
     },
     "execution_count": 14,
     "metadata": {},
     "output_type": "execute_result"
    }
   ],
   "source": [
    "parse_tree = pglast.parser.parse_sql_json(\"SELECT * FROM foo, bar WHERE id = fkey\")\n",
    "json.loads(parse_tree)"
   ]
  },
  {
   "cell_type": "code",
   "execution_count": 15,
   "metadata": {},
   "outputs": [
    {
     "data": {
      "text/plain": [
       "{'version': 170000,\n",
       " 'stmts': [{'stmt': {'SelectStmt': {'targetList': [{'ResTarget': {'val': {'ColumnRef': {'fields': [{'A_Star': {}}],\n",
       "          'location': 7}},\n",
       "        'location': 7}}],\n",
       "     'fromClause': [{'RangeVar': {'relname': 'foo',\n",
       "        'inh': True,\n",
       "        'relpersistence': 'p',\n",
       "        'location': 14}},\n",
       "      {'RangeVar': {'relname': 'bar',\n",
       "        'inh': True,\n",
       "        'relpersistence': 'p',\n",
       "        'location': 19}}],\n",
       "     'whereClause': {'A_Expr': {'kind': 'AEXPR_OP',\n",
       "       'name': [{'String': {'sval': '<>'}}],\n",
       "       'lexpr': {'ColumnRef': {'fields': [{'String': {'sval': 'id'}}],\n",
       "         'location': 29}},\n",
       "       'rexpr': {'ColumnRef': {'fields': [{'String': {'sval': 'fkey'}}],\n",
       "         'location': 35}},\n",
       "       'location': 32}},\n",
       "     'limitOption': 'LIMIT_OPTION_DEFAULT',\n",
       "     'op': 'SETOP_NONE'}}}]}"
      ]
     },
     "execution_count": 15,
     "metadata": {},
     "output_type": "execute_result"
    }
   ],
   "source": [
    "parse_tree = pglast.parser.parse_sql_json(\"SELECT * FROM foo, bar WHERE id != fkey\")\n",
    "json.loads(parse_tree)"
   ]
  },
  {
   "cell_type": "code",
   "execution_count": 16,
   "metadata": {},
   "outputs": [
    {
     "data": {
      "text/plain": [
       "{'version': 170000,\n",
       " 'stmts': [{'stmt': {'SelectStmt': {'targetList': [{'ResTarget': {'val': {'ColumnRef': {'fields': [{'A_Star': {}}],\n",
       "          'location': 7}},\n",
       "        'location': 7}}],\n",
       "     'fromClause': [{'RangeVar': {'relname': 'foo',\n",
       "        'inh': True,\n",
       "        'relpersistence': 'p',\n",
       "        'location': 14}}],\n",
       "     'whereClause': {'A_Expr': {'kind': 'AEXPR_OP',\n",
       "       'name': [{'String': {'sval': '='}}],\n",
       "       'lexpr': {'ColumnRef': {'fields': [{'String': {'sval': 'id'}}],\n",
       "         'location': 24}},\n",
       "       'rexpr': {'A_Const': {'sval': {'sval': 'bar'}, 'location': 29}},\n",
       "       'location': 27}},\n",
       "     'limitOption': 'LIMIT_OPTION_DEFAULT',\n",
       "     'op': 'SETOP_NONE'}}}]}"
      ]
     },
     "execution_count": 16,
     "metadata": {},
     "output_type": "execute_result"
    }
   ],
   "source": [
    "parse_tree = pglast.parser.parse_sql_json(\"SELECT * FROM foo WHERE id = 'bar'\")\n",
    "json.loads(parse_tree)"
   ]
  },
  {
   "cell_type": "code",
   "execution_count": 17,
   "metadata": {},
   "outputs": [
    {
     "data": {
      "text/plain": [
       "{'version': 170000,\n",
       " 'stmts': [{'stmt': {'SelectStmt': {'targetList': [{'ResTarget': {'val': {'ColumnRef': {'fields': [{'A_Star': {}}],\n",
       "          'location': 7}},\n",
       "        'location': 7}}],\n",
       "     'fromClause': [{'RangeVar': {'relname': 'foo',\n",
       "        'inh': True,\n",
       "        'relpersistence': 'p',\n",
       "        'location': 14}}],\n",
       "     'whereClause': {'A_Expr': {'kind': 'AEXPR_LIKE',\n",
       "       'name': [{'String': {'sval': '~~'}}],\n",
       "       'lexpr': {'ColumnRef': {'fields': [{'String': {'sval': 'id'}}],\n",
       "         'location': 24}},\n",
       "       'rexpr': {'A_Const': {'sval': {'sval': 'bar'}, 'location': 32}},\n",
       "       'location': 27}},\n",
       "     'limitOption': 'LIMIT_OPTION_DEFAULT',\n",
       "     'op': 'SETOP_NONE'}}}]}"
      ]
     },
     "execution_count": 17,
     "metadata": {},
     "output_type": "execute_result"
    }
   ],
   "source": [
    "parse_tree = pglast.parser.parse_sql_json(\"SELECT * FROM foo WHERE id LIKE 'bar'\")\n",
    "json.loads(parse_tree)"
   ]
  },
  {
   "cell_type": "code",
   "execution_count": 18,
   "metadata": {},
   "outputs": [
    {
     "data": {
      "text/plain": [
       "{'version': 170000,\n",
       " 'stmts': [{'stmt': {'SelectStmt': {'targetList': [{'ResTarget': {'val': {'ColumnRef': {'fields': [{'A_Star': {}}],\n",
       "          'location': 7}},\n",
       "        'location': 7}}],\n",
       "     'fromClause': [{'RangeVar': {'relname': 'foo',\n",
       "        'inh': True,\n",
       "        'relpersistence': 'p',\n",
       "        'location': 14}}],\n",
       "     'whereClause': {'A_Expr': {'kind': 'AEXPR_LIKE',\n",
       "       'name': [{'String': {'sval': '!~~'}}],\n",
       "       'lexpr': {'ColumnRef': {'fields': [{'String': {'sval': 'id'}}],\n",
       "         'location': 24}},\n",
       "       'rexpr': {'A_Const': {'sval': {'sval': 'bar'}, 'location': 36}},\n",
       "       'location': 27}},\n",
       "     'limitOption': 'LIMIT_OPTION_DEFAULT',\n",
       "     'op': 'SETOP_NONE'}}}]}"
      ]
     },
     "execution_count": 18,
     "metadata": {},
     "output_type": "execute_result"
    }
   ],
   "source": [
    "parse_tree = pglast.parser.parse_sql_json(\"SELECT * FROM foo WHERE id NOT LIKE 'bar'\")\n",
    "json.loads(parse_tree)"
   ]
  },
  {
   "cell_type": "code",
   "execution_count": 19,
   "metadata": {},
   "outputs": [
    {
     "data": {
      "text/plain": [
       "{'version': 170000,\n",
       " 'stmts': [{'stmt': {'SelectStmt': {'targetList': [{'ResTarget': {'val': {'ColumnRef': {'fields': [{'A_Star': {}}],\n",
       "          'location': 7}},\n",
       "        'location': 7}}],\n",
       "     'fromClause': [{'RangeVar': {'relname': 'foo',\n",
       "        'inh': True,\n",
       "        'relpersistence': 'p',\n",
       "        'location': 14}}],\n",
       "     'whereClause': {'A_Expr': {'kind': 'AEXPR_OP',\n",
       "       'name': [{'String': {'sval': '<'}}],\n",
       "       'lexpr': {'ColumnRef': {'fields': [{'String': {'sval': 'id'}}],\n",
       "         'location': 24}},\n",
       "       'rexpr': {'A_Const': {'sval': {'sval': '1990-01-10'}, 'location': 29}},\n",
       "       'location': 27}},\n",
       "     'limitOption': 'LIMIT_OPTION_DEFAULT',\n",
       "     'op': 'SETOP_NONE'}}}]}"
      ]
     },
     "execution_count": 19,
     "metadata": {},
     "output_type": "execute_result"
    }
   ],
   "source": [
    "parse_tree = pglast.parser.parse_sql_json(\"SELECT * FROM foo WHERE id < '1990-01-10'\")\n",
    "json.loads(parse_tree)"
   ]
  },
  {
   "cell_type": "code",
   "execution_count": 20,
   "metadata": {},
   "outputs": [
    {
     "data": {
      "text/plain": [
       "{'version': 170000,\n",
       " 'stmts': [{'stmt': {'SelectStmt': {'targetList': [{'ResTarget': {'val': {'ColumnRef': {'fields': [{'A_Star': {}}],\n",
       "          'location': 7}},\n",
       "        'location': 7}}],\n",
       "     'fromClause': [{'RangeVar': {'relname': 'foo',\n",
       "        'inh': True,\n",
       "        'relpersistence': 'p',\n",
       "        'location': 14}}],\n",
       "     'whereClause': {'A_Expr': {'kind': 'AEXPR_OP',\n",
       "       'name': [{'String': {'sval': '='}}],\n",
       "       'lexpr': {'ColumnRef': {'fields': [{'String': {'sval': 'id'}}],\n",
       "         'location': 24}},\n",
       "       'rexpr': {'A_Const': {'ival': {'ival': 42}, 'location': 29}},\n",
       "       'location': 27}},\n",
       "     'limitOption': 'LIMIT_OPTION_DEFAULT',\n",
       "     'op': 'SETOP_NONE'}}}]}"
      ]
     },
     "execution_count": 20,
     "metadata": {},
     "output_type": "execute_result"
    }
   ],
   "source": [
    "parse_tree = pglast.parser.parse_sql_json(\"SELECT * FROM foo WHERE id = 42\")\n",
    "json.loads(parse_tree)"
   ]
  },
  {
   "cell_type": "markdown",
   "metadata": {},
   "source": [
    "## Compound predicates"
   ]
  },
  {
   "cell_type": "code",
   "execution_count": 21,
   "metadata": {},
   "outputs": [
    {
     "data": {
      "text/plain": [
       "{'version': 170000,\n",
       " 'stmts': [{'stmt': {'SelectStmt': {'targetList': [{'ResTarget': {'val': {'ColumnRef': {'fields': [{'A_Star': {}}],\n",
       "          'location': 7}},\n",
       "        'location': 7}}],\n",
       "     'fromClause': [{'RangeVar': {'relname': 'foo',\n",
       "        'inh': True,\n",
       "        'relpersistence': 'p',\n",
       "        'location': 14}}],\n",
       "     'whereClause': {'BoolExpr': {'boolop': 'AND_EXPR',\n",
       "       'args': [{'A_Expr': {'kind': 'AEXPR_OP',\n",
       "          'name': [{'String': {'sval': '='}}],\n",
       "          'lexpr': {'ColumnRef': {'fields': [{'String': {'sval': 'id'}}],\n",
       "            'location': 24}},\n",
       "          'rexpr': {'A_Const': {'ival': {'ival': 42}, 'location': 29}},\n",
       "          'location': 27}},\n",
       "        {'A_Expr': {'kind': 'AEXPR_OP',\n",
       "          'name': [{'String': {'sval': '='}}],\n",
       "          'lexpr': {'ColumnRef': {'fields': [{'String': {'sval': 'key'}}],\n",
       "            'location': 36}},\n",
       "          'rexpr': {'A_Const': {'sval': {'sval': 'bar'}, 'location': 42}},\n",
       "          'location': 40}}],\n",
       "       'location': 32}},\n",
       "     'limitOption': 'LIMIT_OPTION_DEFAULT',\n",
       "     'op': 'SETOP_NONE'}}}]}"
      ]
     },
     "execution_count": 21,
     "metadata": {},
     "output_type": "execute_result"
    }
   ],
   "source": [
    "parse_tree = pglast.parser.parse_sql_json(\"SELECT * FROM foo WHERE id = 42 AND key = 'bar'\")\n",
    "json.loads(parse_tree)"
   ]
  },
  {
   "cell_type": "code",
   "execution_count": 22,
   "metadata": {},
   "outputs": [
    {
     "data": {
      "text/plain": [
       "{'version': 170000,\n",
       " 'stmts': [{'stmt': {'SelectStmt': {'targetList': [{'ResTarget': {'val': {'ColumnRef': {'fields': [{'A_Star': {}}],\n",
       "          'location': 7}},\n",
       "        'location': 7}}],\n",
       "     'fromClause': [{'RangeVar': {'relname': 'foo',\n",
       "        'inh': True,\n",
       "        'relpersistence': 'p',\n",
       "        'location': 14}}],\n",
       "     'whereClause': {'BoolExpr': {'boolop': 'OR_EXPR',\n",
       "       'args': [{'A_Expr': {'kind': 'AEXPR_OP',\n",
       "          'name': [{'String': {'sval': '='}}],\n",
       "          'lexpr': {'ColumnRef': {'fields': [{'String': {'sval': 'id'}}],\n",
       "            'location': 24}},\n",
       "          'rexpr': {'A_Const': {'ival': {'ival': 42}, 'location': 29}},\n",
       "          'location': 27}},\n",
       "        {'A_Expr': {'kind': 'AEXPR_OP',\n",
       "          'name': [{'String': {'sval': '='}}],\n",
       "          'lexpr': {'ColumnRef': {'fields': [{'String': {'sval': 'key'}}],\n",
       "            'location': 35}},\n",
       "          'rexpr': {'A_Const': {'sval': {'sval': 'bar'}, 'location': 41}},\n",
       "          'location': 39}}],\n",
       "       'location': 32}},\n",
       "     'limitOption': 'LIMIT_OPTION_DEFAULT',\n",
       "     'op': 'SETOP_NONE'}}}]}"
      ]
     },
     "execution_count": 22,
     "metadata": {},
     "output_type": "execute_result"
    }
   ],
   "source": [
    "parse_tree = pglast.parser.parse_sql_json(\"SELECT * FROM foo WHERE id = 42 OR key = 'bar'\")\n",
    "json.loads(parse_tree)"
   ]
  },
  {
   "cell_type": "code",
   "execution_count": 23,
   "metadata": {},
   "outputs": [
    {
     "data": {
      "text/plain": [
       "{'version': 170000,\n",
       " 'stmts': [{'stmt': {'SelectStmt': {'targetList': [{'ResTarget': {'val': {'ColumnRef': {'fields': [{'A_Star': {}}],\n",
       "          'location': 7}},\n",
       "        'location': 7}}],\n",
       "     'fromClause': [{'RangeVar': {'relname': 'foo',\n",
       "        'inh': True,\n",
       "        'relpersistence': 'p',\n",
       "        'location': 14}}],\n",
       "     'whereClause': {'BoolExpr': {'boolop': 'AND_EXPR',\n",
       "       'args': [{'A_Expr': {'kind': 'AEXPR_OP',\n",
       "          'name': [{'String': {'sval': '='}}],\n",
       "          'lexpr': {'ColumnRef': {'fields': [{'String': {'sval': 'id'}}],\n",
       "            'location': 24}},\n",
       "          'rexpr': {'A_Const': {'ival': {'ival': 42}, 'location': 29}},\n",
       "          'location': 27}},\n",
       "        {'BoolExpr': {'boolop': 'OR_EXPR',\n",
       "          'args': [{'A_Expr': {'kind': 'AEXPR_OP',\n",
       "             'name': [{'String': {'sval': '='}}],\n",
       "             'lexpr': {'ColumnRef': {'fields': [{'String': {'sval': 'key'}}],\n",
       "               'location': 37}},\n",
       "             'rexpr': {'A_Const': {'sval': {'sval': 'bar'}, 'location': 43}},\n",
       "             'location': 41}},\n",
       "           {'A_Expr': {'kind': 'AEXPR_OP',\n",
       "             'name': [{'String': {'sval': '='}}],\n",
       "             'lexpr': {'ColumnRef': {'fields': [{'String': {'sval': 'key'}}],\n",
       "               'location': 52}},\n",
       "             'rexpr': {'A_Const': {'sval': {'sval': 'baz'}, 'location': 58}},\n",
       "             'location': 56}}],\n",
       "          'location': 49}}],\n",
       "       'location': 32}},\n",
       "     'limitOption': 'LIMIT_OPTION_DEFAULT',\n",
       "     'op': 'SETOP_NONE'}}}]}"
      ]
     },
     "execution_count": 23,
     "metadata": {},
     "output_type": "execute_result"
    }
   ],
   "source": [
    "parse_tree = pglast.parser.parse_sql_json(\"SELECT * FROM foo WHERE id = 42 AND (key = 'bar' OR key = 'baz')\")\n",
    "json.loads(parse_tree)"
   ]
  },
  {
   "cell_type": "code",
   "execution_count": 24,
   "metadata": {},
   "outputs": [
    {
     "data": {
      "text/plain": [
       "{'version': 170000,\n",
       " 'stmts': [{'stmt': {'SelectStmt': {'targetList': [{'ResTarget': {'val': {'ColumnRef': {'fields': [{'A_Star': {}}],\n",
       "          'location': 7}},\n",
       "        'location': 7}}],\n",
       "     'fromClause': [{'RangeVar': {'relname': 'foo',\n",
       "        'inh': True,\n",
       "        'relpersistence': 'p',\n",
       "        'location': 14}}],\n",
       "     'whereClause': {'BoolExpr': {'boolop': 'AND_EXPR',\n",
       "       'args': [{'A_Expr': {'kind': 'AEXPR_OP',\n",
       "          'name': [{'String': {'sval': '='}}],\n",
       "          'lexpr': {'ColumnRef': {'fields': [{'String': {'sval': 'id'}}],\n",
       "            'location': 24}},\n",
       "          'rexpr': {'A_Const': {'ival': {'ival': 42}, 'location': 29}},\n",
       "          'location': 27}},\n",
       "        {'BoolExpr': {'boolop': 'NOT_EXPR',\n",
       "          'args': [{'BoolExpr': {'boolop': 'OR_EXPR',\n",
       "             'args': [{'A_Expr': {'kind': 'AEXPR_OP',\n",
       "                'name': [{'String': {'sval': '='}}],\n",
       "                'lexpr': {'ColumnRef': {'fields': [{'String': {'sval': 'key'}}],\n",
       "                  'location': 41}},\n",
       "                'rexpr': {'A_Const': {'sval': {'sval': 'bar'},\n",
       "                  'location': 47}},\n",
       "                'location': 45}},\n",
       "              {'A_Expr': {'kind': 'AEXPR_OP',\n",
       "                'name': [{'String': {'sval': '='}}],\n",
       "                'lexpr': {'ColumnRef': {'fields': [{'String': {'sval': 'key'}}],\n",
       "                  'location': 56}},\n",
       "                'rexpr': {'A_Const': {'sval': {'sval': 'baz'},\n",
       "                  'location': 62}},\n",
       "                'location': 60}}],\n",
       "             'location': 53}}],\n",
       "          'location': 36}}],\n",
       "       'location': 32}},\n",
       "     'limitOption': 'LIMIT_OPTION_DEFAULT',\n",
       "     'op': 'SETOP_NONE'}}}]}"
      ]
     },
     "execution_count": 24,
     "metadata": {},
     "output_type": "execute_result"
    }
   ],
   "source": [
    "parse_tree = pglast.parser.parse_sql_json(\"SELECT * FROM foo WHERE id = 42 AND NOT (key = 'bar' OR key = 'baz')\")\n",
    "json.loads(parse_tree)"
   ]
  },
  {
   "cell_type": "markdown",
   "metadata": {},
   "source": [
    "## Aliases"
   ]
  },
  {
   "cell_type": "code",
   "execution_count": 25,
   "metadata": {},
   "outputs": [
    {
     "data": {
      "text/plain": [
       "{'version': 170000,\n",
       " 'stmts': [{'stmt': {'SelectStmt': {'targetList': [{'ResTarget': {'val': {'ColumnRef': {'fields': [{'A_Star': {}}],\n",
       "          'location': 7}},\n",
       "        'location': 7}}],\n",
       "     'fromClause': [{'RangeVar': {'relname': 'foo',\n",
       "        'inh': True,\n",
       "        'relpersistence': 'p',\n",
       "        'alias': {'aliasname': 'f'},\n",
       "        'location': 14}},\n",
       "      {'RangeVar': {'relname': 'bar',\n",
       "        'inh': True,\n",
       "        'relpersistence': 'p',\n",
       "        'alias': {'aliasname': 'b'},\n",
       "        'location': 21}}],\n",
       "     'whereClause': {'A_Expr': {'kind': 'AEXPR_OP',\n",
       "       'name': [{'String': {'sval': '='}}],\n",
       "       'lexpr': {'ColumnRef': {'fields': [{'String': {'sval': 'f'}},\n",
       "          {'String': {'sval': 'id'}}],\n",
       "         'location': 33}},\n",
       "       'rexpr': {'ColumnRef': {'fields': [{'String': {'sval': 'b'}},\n",
       "          {'String': {'sval': 'fkey'}}],\n",
       "         'location': 40}},\n",
       "       'location': 38}},\n",
       "     'limitOption': 'LIMIT_OPTION_DEFAULT',\n",
       "     'op': 'SETOP_NONE'}}}]}"
      ]
     },
     "execution_count": 25,
     "metadata": {},
     "output_type": "execute_result"
    }
   ],
   "source": [
    "parse_tree = pglast.parser.parse_sql_json(\"SELECT * FROM foo f, bar b WHERE f.id = b.fkey\")\n",
    "json.loads(parse_tree)"
   ]
  },
  {
   "cell_type": "markdown",
   "metadata": {},
   "source": [
    "## Subqueries"
   ]
  },
  {
   "cell_type": "code",
   "execution_count": 26,
   "metadata": {},
   "outputs": [
    {
     "data": {
      "text/plain": [
       "{'version': 170000,\n",
       " 'stmts': [{'stmt': {'SelectStmt': {'targetList': [{'ResTarget': {'val': {'ColumnRef': {'fields': [{'A_Star': {}}],\n",
       "          'location': 7}},\n",
       "        'location': 7}}],\n",
       "     'fromClause': [{'RangeVar': {'relname': 'foo',\n",
       "        'inh': True,\n",
       "        'relpersistence': 'p',\n",
       "        'location': 14}}],\n",
       "     'whereClause': {'SubLink': {'subLinkType': 'ANY_SUBLINK',\n",
       "       'testexpr': {'ColumnRef': {'fields': [{'String': {'sval': 'id'}}],\n",
       "         'location': 24}},\n",
       "       'subselect': {'SelectStmt': {'targetList': [{'ResTarget': {'val': {'ColumnRef': {'fields': [{'String': {'sval': 'fkey'}}],\n",
       "              'location': 38}},\n",
       "            'location': 38}}],\n",
       "         'fromClause': [{'RangeVar': {'relname': 'bar',\n",
       "            'inh': True,\n",
       "            'relpersistence': 'p',\n",
       "            'location': 48}}],\n",
       "         'limitOption': 'LIMIT_OPTION_DEFAULT',\n",
       "         'op': 'SETOP_NONE'}},\n",
       "       'location': 27}},\n",
       "     'limitOption': 'LIMIT_OPTION_DEFAULT',\n",
       "     'op': 'SETOP_NONE'}}}]}"
      ]
     },
     "execution_count": 26,
     "metadata": {},
     "output_type": "execute_result"
    }
   ],
   "source": [
    "parse_tree = pglast.parser.parse_sql_json(\"SELECT * FROM foo WHERE id IN (SELECT fkey FROM bar)\")\n",
    "json.loads(parse_tree)"
   ]
  },
  {
   "cell_type": "code",
   "execution_count": 27,
   "metadata": {},
   "outputs": [
    {
     "data": {
      "text/plain": [
       "{'version': 170000,\n",
       " 'stmts': [{'stmt': {'SelectStmt': {'targetList': [{'ResTarget': {'val': {'ColumnRef': {'fields': [{'A_Star': {}}],\n",
       "          'location': 7}},\n",
       "        'location': 7}}],\n",
       "     'fromClause': [{'RangeVar': {'relname': 'foo',\n",
       "        'inh': True,\n",
       "        'relpersistence': 'p',\n",
       "        'location': 14}},\n",
       "      {'RangeSubselect': {'subquery': {'SelectStmt': {'targetList': [{'ResTarget': {'val': {'ColumnRef': {'fields': [{'A_Star': {}}],\n",
       "               'location': 27}},\n",
       "             'location': 27}}],\n",
       "          'fromClause': [{'RangeVar': {'relname': 'bar',\n",
       "             'inh': True,\n",
       "             'relpersistence': 'p',\n",
       "             'location': 34}}],\n",
       "          'whereClause': {'A_Expr': {'kind': 'AEXPR_OP',\n",
       "            'name': [{'String': {'sval': '<'}}],\n",
       "            'lexpr': {'ColumnRef': {'fields': [{'String': {'sval': 'bar_id'}}],\n",
       "              'location': 44}},\n",
       "            'rexpr': {'A_Const': {'ival': {'ival': 42}, 'location': 53}},\n",
       "            'location': 51}},\n",
       "          'limitOption': 'LIMIT_OPTION_DEFAULT',\n",
       "          'op': 'SETOP_NONE'}}}}],\n",
       "     'whereClause': {'A_Expr': {'kind': 'AEXPR_OP',\n",
       "       'name': [{'String': {'sval': '<>'}}],\n",
       "       'lexpr': {'ColumnRef': {'fields': [{'String': {'sval': 'foo_id'}}],\n",
       "         'location': 63}},\n",
       "       'rexpr': {'ColumnRef': {'fields': [{'String': {'sval': 'bar_id'}}],\n",
       "         'location': 73}},\n",
       "       'location': 70}},\n",
       "     'limitOption': 'LIMIT_OPTION_DEFAULT',\n",
       "     'op': 'SETOP_NONE'}}}]}"
      ]
     },
     "execution_count": 27,
     "metadata": {},
     "output_type": "execute_result"
    }
   ],
   "source": [
    "parse_tree = pglast.parser.parse_sql_json(\"SELECT * FROM foo, (SELECT * FROM bar WHERE bar_id < 42) WHERE foo_id != bar_id\")\n",
    "json.loads(parse_tree)"
   ]
  },
  {
   "cell_type": "code",
   "execution_count": 28,
   "metadata": {},
   "outputs": [
    {
     "data": {
      "text/plain": [
       "{'version': 170000,\n",
       " 'stmts': [{'stmt': {'SelectStmt': {'targetList': [{'ResTarget': {'val': {'ColumnRef': {'fields': [{'A_Star': {}}],\n",
       "          'location': 7}},\n",
       "        'location': 7}}],\n",
       "     'fromClause': [{'RangeVar': {'relname': 'foo',\n",
       "        'inh': True,\n",
       "        'relpersistence': 'p',\n",
       "        'location': 14}},\n",
       "      {'RangeSubselect': {'subquery': {'SelectStmt': {'targetList': [{'ResTarget': {'val': {'ColumnRef': {'fields': [{'A_Star': {}}],\n",
       "               'location': 27}},\n",
       "             'location': 27}}],\n",
       "          'fromClause': [{'RangeVar': {'relname': 'bar',\n",
       "             'inh': True,\n",
       "             'relpersistence': 'p',\n",
       "             'location': 34}}],\n",
       "          'whereClause': {'A_Expr': {'kind': 'AEXPR_OP',\n",
       "            'name': [{'String': {'sval': '<'}}],\n",
       "            'lexpr': {'ColumnRef': {'fields': [{'String': {'sval': 'bar_id'}}],\n",
       "              'location': 44}},\n",
       "            'rexpr': {'A_Const': {'ival': {'ival': 42}, 'location': 53}},\n",
       "            'location': 51}},\n",
       "          'limitOption': 'LIMIT_OPTION_DEFAULT',\n",
       "          'op': 'SETOP_NONE'}},\n",
       "        'alias': {'aliasname': 'b'}}}],\n",
       "     'whereClause': {'A_Expr': {'kind': 'AEXPR_OP',\n",
       "       'name': [{'String': {'sval': '<>'}}],\n",
       "       'lexpr': {'ColumnRef': {'fields': [{'String': {'sval': 'foo_id'}}],\n",
       "         'location': 68}},\n",
       "       'rexpr': {'ColumnRef': {'fields': [{'String': {'sval': 'bar_id'}}],\n",
       "         'location': 78}},\n",
       "       'location': 75}},\n",
       "     'limitOption': 'LIMIT_OPTION_DEFAULT',\n",
       "     'op': 'SETOP_NONE'}}}]}"
      ]
     },
     "execution_count": 28,
     "metadata": {},
     "output_type": "execute_result"
    }
   ],
   "source": [
    "parse_tree = pglast.parser.parse_sql_json(\"SELECT * FROM foo, (SELECT * FROM bar WHERE bar_id < 42) AS b WHERE foo_id != bar_id\")\n",
    "json.loads(parse_tree)"
   ]
  },
  {
   "cell_type": "markdown",
   "metadata": {},
   "source": [
    "## Special predicates"
   ]
  },
  {
   "cell_type": "code",
   "execution_count": 29,
   "metadata": {},
   "outputs": [
    {
     "data": {
      "text/plain": [
       "{'version': 170000,\n",
       " 'stmts': [{'stmt': {'SelectStmt': {'targetList': [{'ResTarget': {'val': {'ColumnRef': {'fields': [{'A_Star': {}}],\n",
       "          'location': 7}},\n",
       "        'location': 7}}],\n",
       "     'fromClause': [{'RangeVar': {'relname': 'foo',\n",
       "        'inh': True,\n",
       "        'relpersistence': 'p',\n",
       "        'location': 14}},\n",
       "      {'RangeVar': {'relname': 'bar',\n",
       "        'inh': True,\n",
       "        'relpersistence': 'p',\n",
       "        'location': 19}}],\n",
       "     'whereClause': {'A_Expr': {'kind': 'AEXPR_IN',\n",
       "       'name': [{'String': {'sval': '='}}],\n",
       "       'lexpr': {'ColumnRef': {'fields': [{'String': {'sval': 'id'}}],\n",
       "         'location': 29}},\n",
       "       'rexpr': {'List': {'items': [{'A_Const': {'sval': {'sval': 'bar'},\n",
       "            'location': 36}},\n",
       "          {'A_Const': {'sval': {'sval': 'baz'}, 'location': 43}}]}},\n",
       "       'location': 32}},\n",
       "     'limitOption': 'LIMIT_OPTION_DEFAULT',\n",
       "     'op': 'SETOP_NONE'}}}]}"
      ]
     },
     "execution_count": 29,
     "metadata": {},
     "output_type": "execute_result"
    }
   ],
   "source": [
    "parse_tree = pglast.parser.parse_sql_json(\"SELECT * FROM foo, bar WHERE id IN ('bar', 'baz')\")\n",
    "json.loads(parse_tree)"
   ]
  },
  {
   "cell_type": "code",
   "execution_count": 30,
   "metadata": {},
   "outputs": [
    {
     "data": {
      "text/plain": [
       "{'version': 170000,\n",
       " 'stmts': [{'stmt': {'SelectStmt': {'targetList': [{'ResTarget': {'val': {'ColumnRef': {'fields': [{'A_Star': {}}],\n",
       "          'location': 7}},\n",
       "        'location': 7}}],\n",
       "     'fromClause': [{'RangeVar': {'relname': 'foo',\n",
       "        'inh': True,\n",
       "        'relpersistence': 'p',\n",
       "        'location': 14}}],\n",
       "     'whereClause': {'A_Expr': {'kind': 'AEXPR_IN',\n",
       "       'name': [{'String': {'sval': '='}}],\n",
       "       'lexpr': {'ColumnRef': {'fields': [{'String': {'sval': 'id'}}],\n",
       "         'location': 24}},\n",
       "       'rexpr': {'List': {'items': [{'A_Const': {'sval': {'sval': 'bar'},\n",
       "            'location': 31}},\n",
       "          {'SubLink': {'subLinkType': 'EXPR_SUBLINK',\n",
       "            'subselect': {'SelectStmt': {'targetList': [{'ResTarget': {'val': {'FuncCall': {'funcname': [{'String': {'sval': 'min'}}],\n",
       "                   'args': [{'ColumnRef': {'fields': [{'String': {'sval': 'fkey'}}],\n",
       "                      'location': 50}}],\n",
       "                   'funcformat': 'COERCE_EXPLICIT_CALL',\n",
       "                   'location': 46}},\n",
       "                 'location': 46}}],\n",
       "              'fromClause': [{'RangeVar': {'relname': 'bar',\n",
       "                 'inh': True,\n",
       "                 'relpersistence': 'p',\n",
       "                 'location': 61}}],\n",
       "              'limitOption': 'LIMIT_OPTION_DEFAULT',\n",
       "              'op': 'SETOP_NONE'}},\n",
       "            'location': 38}}]}},\n",
       "       'location': 27}},\n",
       "     'limitOption': 'LIMIT_OPTION_DEFAULT',\n",
       "     'op': 'SETOP_NONE'}}}]}"
      ]
     },
     "execution_count": 30,
     "metadata": {},
     "output_type": "execute_result"
    }
   ],
   "source": [
    "parse_tree = pglast.parser.parse_sql_json(\"SELECT * FROM foo WHERE id IN ('bar', (SELECT MIN(fkey) FROM bar))\")\n",
    "json.loads(parse_tree)"
   ]
  },
  {
   "cell_type": "code",
   "execution_count": 31,
   "metadata": {},
   "outputs": [
    {
     "data": {
      "text/plain": [
       "{'version': 170000,\n",
       " 'stmts': [{'stmt': {'SelectStmt': {'targetList': [{'ResTarget': {'val': {'ColumnRef': {'fields': [{'A_Star': {}}],\n",
       "          'location': 7}},\n",
       "        'location': 7}}],\n",
       "     'fromClause': [{'RangeVar': {'relname': 'foo',\n",
       "        'inh': True,\n",
       "        'relpersistence': 'p',\n",
       "        'location': 14}},\n",
       "      {'RangeVar': {'relname': 'bar',\n",
       "        'inh': True,\n",
       "        'relpersistence': 'p',\n",
       "        'location': 19}}],\n",
       "     'whereClause': {'A_Expr': {'kind': 'AEXPR_IN',\n",
       "       'name': [{'String': {'sval': '='}}],\n",
       "       'lexpr': {'ColumnRef': {'fields': [{'String': {'sval': 'id'}}],\n",
       "         'location': 29}},\n",
       "       'rexpr': {'List': {'items': [{'A_Const': {'sval': {'sval': 'bar'},\n",
       "            'location': 36}},\n",
       "          {'ColumnRef': {'fields': [{'String': {'sval': 'bar'}},\n",
       "             {'String': {'sval': 'id'}}],\n",
       "            'location': 43}},\n",
       "          {'A_Const': {'sval': {'sval': 'biz'}, 'location': 51}}]}},\n",
       "       'location': 32}},\n",
       "     'limitOption': 'LIMIT_OPTION_DEFAULT',\n",
       "     'op': 'SETOP_NONE'}}}]}"
      ]
     },
     "execution_count": 31,
     "metadata": {},
     "output_type": "execute_result"
    }
   ],
   "source": [
    "parse_tree = pglast.parser.parse_sql_json(\"SELECT * FROM foo, bar WHERE id IN ('bar', bar.id, 'biz')\")\n",
    "json.loads(parse_tree)"
   ]
  },
  {
   "cell_type": "code",
   "execution_count": 32,
   "metadata": {},
   "outputs": [
    {
     "data": {
      "text/plain": [
       "{'version': 170000,\n",
       " 'stmts': [{'stmt': {'SelectStmt': {'targetList': [{'ResTarget': {'val': {'ColumnRef': {'fields': [{'A_Star': {}}],\n",
       "          'location': 7}},\n",
       "        'location': 7}}],\n",
       "     'fromClause': [{'RangeVar': {'relname': 'foo',\n",
       "        'inh': True,\n",
       "        'relpersistence': 'p',\n",
       "        'location': 14}}],\n",
       "     'whereClause': {'SubLink': {'subLinkType': 'ANY_SUBLINK',\n",
       "       'testexpr': {'ColumnRef': {'fields': [{'String': {'sval': 'id'}}],\n",
       "         'location': 24}},\n",
       "       'subselect': {'SelectStmt': {'targetList': [{'ResTarget': {'val': {'ColumnRef': {'fields': [{'String': {'sval': 'id'}}],\n",
       "              'location': 38}},\n",
       "            'location': 38}}],\n",
       "         'fromClause': [{'RangeVar': {'relname': 'bar',\n",
       "            'inh': True,\n",
       "            'relpersistence': 'p',\n",
       "            'location': 46}}],\n",
       "         'limitOption': 'LIMIT_OPTION_DEFAULT',\n",
       "         'op': 'SETOP_NONE'}},\n",
       "       'location': 27}},\n",
       "     'limitOption': 'LIMIT_OPTION_DEFAULT',\n",
       "     'op': 'SETOP_NONE'}}}]}"
      ]
     },
     "execution_count": 32,
     "metadata": {},
     "output_type": "execute_result"
    }
   ],
   "source": [
    "parse_tree = pglast.parser.parse_sql_json(\"SELECT * FROM foo WHERE id IN (SELECT id FROM bar)\")\n",
    "json.loads(parse_tree)"
   ]
  },
  {
   "cell_type": "code",
   "execution_count": 33,
   "metadata": {},
   "outputs": [
    {
     "data": {
      "text/plain": [
       "{'version': 170000,\n",
       " 'stmts': [{'stmt': {'SelectStmt': {'targetList': [{'ResTarget': {'val': {'ColumnRef': {'fields': [{'A_Star': {}}],\n",
       "          'location': 7}},\n",
       "        'location': 7}}],\n",
       "     'fromClause': [{'RangeVar': {'relname': 'foo',\n",
       "        'inh': True,\n",
       "        'relpersistence': 'p',\n",
       "        'location': 14}}],\n",
       "     'whereClause': {'A_Expr': {'kind': 'AEXPR_BETWEEN',\n",
       "       'name': [{'String': {'sval': 'BETWEEN'}}],\n",
       "       'lexpr': {'ColumnRef': {'fields': [{'String': {'sval': 'id'}}],\n",
       "         'location': 24}},\n",
       "       'rexpr': {'List': {'items': [{'A_Const': {'ival': {'ival': 24},\n",
       "            'location': 35}},\n",
       "          {'A_Const': {'ival': {'ival': 42}, 'location': 42}}]}},\n",
       "       'location': 27}},\n",
       "     'limitOption': 'LIMIT_OPTION_DEFAULT',\n",
       "     'op': 'SETOP_NONE'}}}]}"
      ]
     },
     "execution_count": 33,
     "metadata": {},
     "output_type": "execute_result"
    }
   ],
   "source": [
    "parse_tree = pglast.parser.parse_sql_json(\"SELECT * FROM foo WHERE id BETWEEN 24 AND 42\")\n",
    "json.loads(parse_tree)"
   ]
  },
  {
   "cell_type": "code",
   "execution_count": 34,
   "metadata": {},
   "outputs": [
    {
     "data": {
      "text/plain": [
       "{'version': 170000,\n",
       " 'stmts': [{'stmt': {'SelectStmt': {'targetList': [{'ResTarget': {'val': {'ColumnRef': {'fields': [{'A_Star': {}}],\n",
       "          'location': 7}},\n",
       "        'location': 7}}],\n",
       "     'fromClause': [{'RangeVar': {'relname': 'foo',\n",
       "        'inh': True,\n",
       "        'relpersistence': 'p',\n",
       "        'location': 14}}],\n",
       "     'whereClause': {'NullTest': {'arg': {'ColumnRef': {'fields': [{'String': {'sval': 'id'}}],\n",
       "         'location': 24}},\n",
       "       'nulltesttype': 'IS_NOT_NULL',\n",
       "       'location': 27}},\n",
       "     'limitOption': 'LIMIT_OPTION_DEFAULT',\n",
       "     'op': 'SETOP_NONE'}}}]}"
      ]
     },
     "execution_count": 34,
     "metadata": {},
     "output_type": "execute_result"
    }
   ],
   "source": [
    "parse_tree = pglast.parser.parse_sql_json(\"SELECT * FROM foo WHERE id IS NOT NULL\")\n",
    "json.loads(parse_tree)"
   ]
  },
  {
   "cell_type": "code",
   "execution_count": 35,
   "metadata": {},
   "outputs": [
    {
     "data": {
      "text/plain": [
       "{'version': 170000,\n",
       " 'stmts': [{'stmt': {'SelectStmt': {'targetList': [{'ResTarget': {'val': {'ColumnRef': {'fields': [{'A_Star': {}}],\n",
       "          'location': 7}},\n",
       "        'location': 7}}],\n",
       "     'fromClause': [{'RangeVar': {'relname': 'foo',\n",
       "        'inh': True,\n",
       "        'relpersistence': 'p',\n",
       "        'location': 14}}],\n",
       "     'whereClause': {'NullTest': {'arg': {'ColumnRef': {'fields': [{'String': {'sval': 'id'}}],\n",
       "         'location': 24}},\n",
       "       'nulltesttype': 'IS_NULL',\n",
       "       'location': 27}},\n",
       "     'limitOption': 'LIMIT_OPTION_DEFAULT',\n",
       "     'op': 'SETOP_NONE'}}}]}"
      ]
     },
     "execution_count": 35,
     "metadata": {},
     "output_type": "execute_result"
    }
   ],
   "source": [
    "parse_tree = pglast.parser.parse_sql_json(\"SELECT * FROM foo WHERE id IS NULL\")\n",
    "json.loads(parse_tree)"
   ]
  },
  {
   "cell_type": "markdown",
   "metadata": {},
   "source": [
    "## Advanced value manipulations"
   ]
  },
  {
   "cell_type": "code",
   "execution_count": 36,
   "metadata": {},
   "outputs": [
    {
     "data": {
      "text/plain": [
       "{'version': 170000,\n",
       " 'stmts': [{'stmt': {'SelectStmt': {'targetList': [{'ResTarget': {'val': {'ColumnRef': {'fields': [{'A_Star': {}}],\n",
       "          'location': 7}},\n",
       "        'location': 7}}],\n",
       "     'fromClause': [{'RangeVar': {'relname': 'foo',\n",
       "        'inh': True,\n",
       "        'relpersistence': 'p',\n",
       "        'location': 14}}],\n",
       "     'whereClause': {'A_Expr': {'kind': 'AEXPR_OP',\n",
       "       'name': [{'String': {'sval': '='}}],\n",
       "       'lexpr': {'ColumnRef': {'fields': [{'String': {'sval': 'id'}}],\n",
       "         'location': 24}},\n",
       "       'rexpr': {'SQLValueFunction': {'op': 'SVFOP_CURRENT_DATE',\n",
       "         'typmod': -1,\n",
       "         'location': 29}},\n",
       "       'location': 27}},\n",
       "     'limitOption': 'LIMIT_OPTION_DEFAULT',\n",
       "     'op': 'SETOP_NONE'}}}]}"
      ]
     },
     "execution_count": 36,
     "metadata": {},
     "output_type": "execute_result"
    }
   ],
   "source": [
    "parse_tree = parse_tree = pglast.parser.parse_sql_json(\"SELECT * FROM foo WHERE id = CURRENT_DATE\")\n",
    "json.loads(parse_tree)"
   ]
  },
  {
   "cell_type": "code",
   "execution_count": 37,
   "metadata": {},
   "outputs": [
    {
     "data": {
      "text/plain": [
       "{'version': 170000,\n",
       " 'stmts': [{'stmt': {'SelectStmt': {'targetList': [{'ResTarget': {'val': {'ColumnRef': {'fields': [{'A_Star': {}}],\n",
       "          'location': 7}},\n",
       "        'location': 7}}],\n",
       "     'fromClause': [{'RangeVar': {'relname': 'foo',\n",
       "        'inh': True,\n",
       "        'relpersistence': 'p',\n",
       "        'location': 14}}],\n",
       "     'whereClause': {'A_Expr': {'kind': 'AEXPR_OP',\n",
       "       'name': [{'String': {'sval': '='}}],\n",
       "       'lexpr': {'A_Expr': {'kind': 'AEXPR_OP',\n",
       "         'name': [{'String': {'sval': '+'}}],\n",
       "         'lexpr': {'ColumnRef': {'fields': [{'String': {'sval': 'id'}}],\n",
       "           'location': 24}},\n",
       "         'rexpr': {'TypeCast': {'arg': {'A_Const': {'sval': {'sval': '5 days'},\n",
       "             'location': 29}},\n",
       "           'typeName': {'names': [{'String': {'sval': 'pg_catalog'}},\n",
       "             {'String': {'sval': 'interval'}}],\n",
       "            'typemod': -1,\n",
       "            'location': 39},\n",
       "           'location': 37}},\n",
       "         'location': 27}},\n",
       "       'rexpr': {'A_Const': {'ival': {'ival': 42}, 'location': 50}},\n",
       "       'location': 48}},\n",
       "     'limitOption': 'LIMIT_OPTION_DEFAULT',\n",
       "     'op': 'SETOP_NONE'}}}]}"
      ]
     },
     "execution_count": 37,
     "metadata": {},
     "output_type": "execute_result"
    }
   ],
   "source": [
    "parse_tree = pglast.parser.parse_sql_json(\"SELECT * FROM foo WHERE id + '5 days'::interval = 42\")\n",
    "json.loads(parse_tree)"
   ]
  },
  {
   "cell_type": "code",
   "execution_count": 38,
   "metadata": {},
   "outputs": [
    {
     "data": {
      "text/plain": [
       "{'version': 170000,\n",
       " 'stmts': [{'stmt': {'SelectStmt': {'targetList': [{'ResTarget': {'val': {'TypeCast': {'arg': {'ColumnRef': {'fields': [{'String': {'sval': 'id'}}],\n",
       "            'location': 7}},\n",
       "          'typeName': {'names': [{'String': {'sval': 'pg_catalog'}},\n",
       "            {'String': {'sval': 'interval'}}],\n",
       "           'typemod': -1,\n",
       "           'location': 11},\n",
       "          'location': 9}},\n",
       "        'location': 7}}],\n",
       "     'fromClause': [{'RangeVar': {'relname': 'foo',\n",
       "        'inh': True,\n",
       "        'relpersistence': 'p',\n",
       "        'location': 25}}],\n",
       "     'limitOption': 'LIMIT_OPTION_DEFAULT',\n",
       "     'op': 'SETOP_NONE'}}}]}"
      ]
     },
     "execution_count": 38,
     "metadata": {},
     "output_type": "execute_result"
    }
   ],
   "source": [
    "parse_tree = pglast.parser.parse_sql_json(\"SELECT id::interval FROM foo\")\n",
    "json.loads(parse_tree)"
   ]
  },
  {
   "cell_type": "code",
   "execution_count": 39,
   "metadata": {},
   "outputs": [
    {
     "data": {
      "text/plain": [
       "{'version': 170000,\n",
       " 'stmts': [{'stmt': {'SelectStmt': {'targetList': [{'ResTarget': {'val': {'CaseExpr': {'args': [{'CaseWhen': {'expr': {'A_Expr': {'kind': 'AEXPR_OP',\n",
       "               'name': [{'String': {'sval': '='}}],\n",
       "               'lexpr': {'ColumnRef': {'fields': [{'String': {'sval': 'r'}},\n",
       "                  {'String': {'sval': 'a'}}],\n",
       "                 'location': 17}},\n",
       "               'rexpr': {'A_Const': {'ival': {'ival': 42}, 'location': 23}},\n",
       "               'location': 21}},\n",
       "             'result': {'A_Const': {'sval': {'sval': 'a'}, 'location': 31}},\n",
       "             'location': 12}}],\n",
       "          'defresult': {'A_Const': {'sval': {'sval': 'b'}, 'location': 40}},\n",
       "          'location': 7}},\n",
       "        'location': 7}}],\n",
       "     'fromClause': [{'RangeVar': {'relname': 'r',\n",
       "        'inh': True,\n",
       "        'relpersistence': 'p',\n",
       "        'location': 53}}],\n",
       "     'limitOption': 'LIMIT_OPTION_DEFAULT',\n",
       "     'op': 'SETOP_NONE'}}}]}"
      ]
     },
     "execution_count": 39,
     "metadata": {},
     "output_type": "execute_result"
    }
   ],
   "source": [
    "parse_tree = pglast.parser.parse_sql_json(\"SELECT CASE WHEN R.a = 42 THEN 'a' ELSE 'b' END FROM R\")\n",
    "json.loads(parse_tree)"
   ]
  },
  {
   "cell_type": "code",
   "execution_count": 40,
   "metadata": {},
   "outputs": [
    {
     "data": {
      "text/plain": [
       "{'version': 170000,\n",
       " 'stmts': [{'stmt': {'SelectStmt': {'targetList': [{'ResTarget': {'val': {'CaseExpr': {'args': [{'CaseWhen': {'expr': {'A_Expr': {'kind': 'AEXPR_OP',\n",
       "               'name': [{'String': {'sval': '='}}],\n",
       "               'lexpr': {'ColumnRef': {'fields': [{'String': {'sval': 'r'}},\n",
       "                  {'String': {'sval': 'a'}}],\n",
       "                 'location': 17}},\n",
       "               'rexpr': {'A_Const': {'ival': {'ival': 42}, 'location': 23}},\n",
       "               'location': 21}},\n",
       "             'result': {'A_Const': {'sval': {'sval': 'a'}, 'location': 31}},\n",
       "             'location': 12}},\n",
       "           {'CaseWhen': {'expr': {'A_Expr': {'kind': 'AEXPR_OP',\n",
       "               'name': [{'String': {'sval': '>'}}],\n",
       "               'lexpr': {'ColumnRef': {'fields': [{'String': {'sval': 'r'}},\n",
       "                  {'String': {'sval': 'a'}}],\n",
       "                 'location': 40}},\n",
       "               'rexpr': {'A_Const': {'ival': {'ival': 42}, 'location': 46}},\n",
       "               'location': 44}},\n",
       "             'result': {'A_Const': {'sval': {'sval': 'b'}, 'location': 54}},\n",
       "             'location': 35}}],\n",
       "          'defresult': {'A_Const': {'sval': {'sval': 'c'}, 'location': 63}},\n",
       "          'location': 7}},\n",
       "        'location': 7}}],\n",
       "     'fromClause': [{'RangeVar': {'relname': 'r',\n",
       "        'inh': True,\n",
       "        'relpersistence': 'p',\n",
       "        'location': 76}}],\n",
       "     'limitOption': 'LIMIT_OPTION_DEFAULT',\n",
       "     'op': 'SETOP_NONE'}}}]}"
      ]
     },
     "execution_count": 40,
     "metadata": {},
     "output_type": "execute_result"
    }
   ],
   "source": [
    "parse_tree = pglast.parser.parse_sql_json(\"SELECT CASE WHEN R.a = 42 THEN 'a' WHEN R.a > 42 THEN 'b' ELSE 'c' END FROM R\")\n",
    "json.loads(parse_tree)"
   ]
  },
  {
   "cell_type": "code",
   "execution_count": 41,
   "metadata": {},
   "outputs": [
    {
     "data": {
      "text/plain": [
       "{'version': 170000,\n",
       " 'stmts': [{'stmt': {'SelectStmt': {'targetList': [{'ResTarget': {'val': {'CaseExpr': {'args': [{'CaseWhen': {'expr': {'A_Expr': {'kind': 'AEXPR_OP',\n",
       "               'name': [{'String': {'sval': '='}}],\n",
       "               'lexpr': {'ColumnRef': {'fields': [{'String': {'sval': 'r'}},\n",
       "                  {'String': {'sval': 'a'}}],\n",
       "                 'location': 17}},\n",
       "               'rexpr': {'A_Const': {'ival': {'ival': 42}, 'location': 23}},\n",
       "               'location': 21}},\n",
       "             'result': {'A_Const': {'sval': {'sval': 'a'}, 'location': 31}},\n",
       "             'location': 12}}],\n",
       "          'location': 7}},\n",
       "        'location': 7}}],\n",
       "     'fromClause': [{'RangeVar': {'relname': 'r',\n",
       "        'inh': True,\n",
       "        'relpersistence': 'p',\n",
       "        'location': 44}}],\n",
       "     'limitOption': 'LIMIT_OPTION_DEFAULT',\n",
       "     'op': 'SETOP_NONE'}}}]}"
      ]
     },
     "execution_count": 41,
     "metadata": {},
     "output_type": "execute_result"
    }
   ],
   "source": [
    "parse_tree = pglast.parser.parse_sql_json(\"SELECT CASE WHEN R.a = 42 THEN 'a' END FROM R\")\n",
    "json.loads(parse_tree)"
   ]
  },
  {
   "cell_type": "code",
   "execution_count": 42,
   "metadata": {},
   "outputs": [
    {
     "data": {
      "text/plain": [
       "{'version': 170000,\n",
       " 'stmts': [{'stmt': {'SelectStmt': {'targetList': [{'ResTarget': {'val': {'A_Expr': {'kind': 'AEXPR_OP',\n",
       "          'name': [{'String': {'sval': '||'}}],\n",
       "          'lexpr': {'A_Const': {'sval': {'sval': 'prefix'}, 'location': 7}},\n",
       "          'rexpr': {'ColumnRef': {'fields': [{'String': {'sval': 'r'}},\n",
       "             {'String': {'sval': 'a'}}],\n",
       "            'location': 19}},\n",
       "          'location': 16}},\n",
       "        'location': 7}}],\n",
       "     'fromClause': [{'RangeVar': {'relname': 'r',\n",
       "        'inh': True,\n",
       "        'relpersistence': 'p',\n",
       "        'location': 28}}],\n",
       "     'limitOption': 'LIMIT_OPTION_DEFAULT',\n",
       "     'op': 'SETOP_NONE'}}}]}"
      ]
     },
     "execution_count": 42,
     "metadata": {},
     "output_type": "execute_result"
    }
   ],
   "source": [
    "parse_tree = pglast.parser.parse_sql_json(\"SELECT 'prefix' || R.a FROM R\")\n",
    "json.loads(parse_tree)"
   ]
  },
  {
   "cell_type": "code",
   "execution_count": 43,
   "metadata": {},
   "outputs": [
    {
     "data": {
      "text/plain": [
       "{'version': 170000,\n",
       " 'stmts': [{'stmt': {'SelectStmt': {'targetList': [{'ResTarget': {'val': {'FuncCall': {'funcname': [{'String': {'sval': 'my_udf'}}],\n",
       "          'args': [{'A_Expr': {'kind': 'AEXPR_OP',\n",
       "             'name': [{'String': {'sval': '='}}],\n",
       "             'lexpr': {'ColumnRef': {'fields': [{'String': {'sval': 'r'}},\n",
       "                {'String': {'sval': 'a'}}],\n",
       "               'location': 14}},\n",
       "             'rexpr': {'ColumnRef': {'fields': [{'String': {'sval': 's'}},\n",
       "                {'String': {'sval': 'b'}}],\n",
       "               'location': 20}},\n",
       "             'location': 18}}],\n",
       "          'funcformat': 'COERCE_EXPLICIT_CALL',\n",
       "          'location': 7}},\n",
       "        'location': 7}}],\n",
       "     'fromClause': [{'RangeVar': {'relname': 'r',\n",
       "        'inh': True,\n",
       "        'relpersistence': 'p',\n",
       "        'location': 30}},\n",
       "      {'RangeVar': {'relname': 's',\n",
       "        'inh': True,\n",
       "        'relpersistence': 'p',\n",
       "        'location': 33}}],\n",
       "     'limitOption': 'LIMIT_OPTION_DEFAULT',\n",
       "     'op': 'SETOP_NONE'}}}]}"
      ]
     },
     "execution_count": 43,
     "metadata": {},
     "output_type": "execute_result"
    }
   ],
   "source": [
    "parse_tree = pglast.parser.parse_sql_json(\"SELECT my_udf(R.a = S.b) FROM R, S\")\n",
    "json.loads(parse_tree)"
   ]
  },
  {
   "cell_type": "markdown",
   "metadata": {},
   "source": [
    "## SELECT ... FROM ... JOIN ..."
   ]
  },
  {
   "cell_type": "code",
   "execution_count": 44,
   "metadata": {},
   "outputs": [
    {
     "data": {
      "text/plain": [
       "{'version': 170000,\n",
       " 'stmts': [{'stmt': {'SelectStmt': {'targetList': [{'ResTarget': {'val': {'ColumnRef': {'fields': [{'A_Star': {}}],\n",
       "          'location': 7}},\n",
       "        'location': 7}}],\n",
       "     'fromClause': [{'JoinExpr': {'jointype': 'JOIN_INNER',\n",
       "        'larg': {'RangeVar': {'relname': 'foo',\n",
       "          'inh': True,\n",
       "          'relpersistence': 'p',\n",
       "          'location': 14}},\n",
       "        'rarg': {'RangeVar': {'relname': 'bar',\n",
       "          'inh': True,\n",
       "          'relpersistence': 'p',\n",
       "          'location': 23}},\n",
       "        'quals': {'A_Expr': {'kind': 'AEXPR_OP',\n",
       "          'name': [{'String': {'sval': '='}}],\n",
       "          'lexpr': {'ColumnRef': {'fields': [{'String': {'sval': 'id'}}],\n",
       "            'location': 30}},\n",
       "          'rexpr': {'ColumnRef': {'fields': [{'String': {'sval': 'fkey'}}],\n",
       "            'location': 35}},\n",
       "          'location': 33}}}}],\n",
       "     'limitOption': 'LIMIT_OPTION_DEFAULT',\n",
       "     'op': 'SETOP_NONE'}}}]}"
      ]
     },
     "execution_count": 44,
     "metadata": {},
     "output_type": "execute_result"
    }
   ],
   "source": [
    "parse_tree = pglast.parser.parse_sql_json(\"SELECT * FROM foo JOIN bar ON id = fkey\")\n",
    "json.loads(parse_tree)"
   ]
  },
  {
   "cell_type": "code",
   "execution_count": 45,
   "metadata": {},
   "outputs": [
    {
     "data": {
      "text/plain": [
       "{'version': 170000,\n",
       " 'stmts': [{'stmt': {'SelectStmt': {'targetList': [{'ResTarget': {'val': {'ColumnRef': {'fields': [{'A_Star': {}}],\n",
       "          'location': 7}},\n",
       "        'location': 7}}],\n",
       "     'fromClause': [{'JoinExpr': {'jointype': 'JOIN_INNER',\n",
       "        'larg': {'RangeVar': {'relname': 'foo',\n",
       "          'inh': True,\n",
       "          'relpersistence': 'p',\n",
       "          'alias': {'aliasname': 'f'},\n",
       "          'location': 14}},\n",
       "        'rarg': {'RangeVar': {'relname': 'bar',\n",
       "          'inh': True,\n",
       "          'relpersistence': 'p',\n",
       "          'alias': {'aliasname': 'b'},\n",
       "          'location': 25}},\n",
       "        'quals': {'A_Expr': {'kind': 'AEXPR_OP',\n",
       "          'name': [{'String': {'sval': '='}}],\n",
       "          'lexpr': {'ColumnRef': {'fields': [{'String': {'sval': 'f'}},\n",
       "             {'String': {'sval': 'id'}}],\n",
       "            'location': 34}},\n",
       "          'rexpr': {'ColumnRef': {'fields': [{'String': {'sval': 'b'}},\n",
       "             {'String': {'sval': 'fkey'}}],\n",
       "            'location': 41}},\n",
       "          'location': 39}}}}],\n",
       "     'limitOption': 'LIMIT_OPTION_DEFAULT',\n",
       "     'op': 'SETOP_NONE'}}}]}"
      ]
     },
     "execution_count": 45,
     "metadata": {},
     "output_type": "execute_result"
    }
   ],
   "source": [
    "parse_tree = pglast.parser.parse_sql_json(\"SELECT * FROM foo f JOIN bar b ON f.id = b.fkey\")\n",
    "json.loads(parse_tree)"
   ]
  },
  {
   "cell_type": "code",
   "execution_count": 46,
   "metadata": {},
   "outputs": [
    {
     "data": {
      "text/plain": [
       "{'version': 170000,\n",
       " 'stmts': [{'stmt': {'SelectStmt': {'targetList': [{'ResTarget': {'val': {'ColumnRef': {'fields': [{'A_Star': {}}],\n",
       "          'location': 7}},\n",
       "        'location': 7}}],\n",
       "     'fromClause': [{'JoinExpr': {'jointype': 'JOIN_INNER',\n",
       "        'larg': {'RangeVar': {'relname': 'foo',\n",
       "          'inh': True,\n",
       "          'relpersistence': 'p',\n",
       "          'location': 14}},\n",
       "        'rarg': {'RangeVar': {'relname': 'bar',\n",
       "          'inh': True,\n",
       "          'relpersistence': 'p',\n",
       "          'location': 23}},\n",
       "        'quals': {'BoolExpr': {'boolop': 'AND_EXPR',\n",
       "          'args': [{'A_Expr': {'kind': 'AEXPR_OP',\n",
       "             'name': [{'String': {'sval': '='}}],\n",
       "             'lexpr': {'ColumnRef': {'fields': [{'String': {'sval': 'id'}}],\n",
       "               'location': 30}},\n",
       "             'rexpr': {'ColumnRef': {'fields': [{'String': {'sval': 'fkey'}}],\n",
       "               'location': 35}},\n",
       "             'location': 33}},\n",
       "           {'A_Expr': {'kind': 'AEXPR_OP',\n",
       "             'name': [{'String': {'sval': '='}}],\n",
       "             'lexpr': {'ColumnRef': {'fields': [{'String': {'sval': 'id'}}],\n",
       "               'location': 44}},\n",
       "             'rexpr': {'A_Const': {'sval': {'sval': 'baz'}, 'location': 49}},\n",
       "             'location': 47}}],\n",
       "          'location': 40}}}}],\n",
       "     'limitOption': 'LIMIT_OPTION_DEFAULT',\n",
       "     'op': 'SETOP_NONE'}}}]}"
      ]
     },
     "execution_count": 46,
     "metadata": {},
     "output_type": "execute_result"
    }
   ],
   "source": [
    "parse_tree = pglast.parser.parse_sql_json(\"SELECT * FROM foo JOIN bar ON id = fkey AND id = 'baz'\")\n",
    "json.loads(parse_tree)"
   ]
  },
  {
   "cell_type": "code",
   "execution_count": 47,
   "metadata": {},
   "outputs": [
    {
     "data": {
      "text/plain": [
       "{'version': 170000,\n",
       " 'stmts': [{'stmt': {'SelectStmt': {'targetList': [{'ResTarget': {'val': {'ColumnRef': {'fields': [{'A_Star': {}}],\n",
       "          'location': 7}},\n",
       "        'location': 7}}],\n",
       "     'fromClause': [{'JoinExpr': {'jointype': 'JOIN_INNER',\n",
       "        'larg': {'RangeVar': {'relname': 'foo',\n",
       "          'inh': True,\n",
       "          'relpersistence': 'p',\n",
       "          'location': 14}},\n",
       "        'rarg': {'RangeSubselect': {'subquery': {'SelectStmt': {'targetList': [{'ResTarget': {'val': {'ColumnRef': {'fields': [{'A_Star': {}}],\n",
       "                 'location': 31}},\n",
       "               'location': 31}}],\n",
       "            'fromClause': [{'RangeVar': {'relname': 'bar',\n",
       "               'inh': True,\n",
       "               'relpersistence': 'p',\n",
       "               'location': 38}}],\n",
       "            'limitOption': 'LIMIT_OPTION_DEFAULT',\n",
       "            'op': 'SETOP_NONE'}},\n",
       "          'alias': {'aliasname': 'bar2'}}},\n",
       "        'quals': {'A_Expr': {'kind': 'AEXPR_OP',\n",
       "          'name': [{'String': {'sval': '='}}],\n",
       "          'lexpr': {'ColumnRef': {'fields': [{'String': {'sval': 'id'}}],\n",
       "            'location': 51}},\n",
       "          'rexpr': {'ColumnRef': {'fields': [{'String': {'sval': 'fkey'}}],\n",
       "            'location': 56}},\n",
       "          'location': 54}}}}],\n",
       "     'limitOption': 'LIMIT_OPTION_DEFAULT',\n",
       "     'op': 'SETOP_NONE'}}}]}"
      ]
     },
     "execution_count": 47,
     "metadata": {},
     "output_type": "execute_result"
    }
   ],
   "source": [
    "parse_tree = pglast.parser.parse_sql_json(\"SELECT * FROM foo JOIN (SELECT * FROM bar) bar2 ON id = fkey\")\n",
    "json.loads(parse_tree)"
   ]
  },
  {
   "cell_type": "code",
   "execution_count": 48,
   "metadata": {},
   "outputs": [
    {
     "data": {
      "text/plain": [
       "{'version': 170000,\n",
       " 'stmts': [{'stmt': {'SelectStmt': {'targetList': [{'ResTarget': {'val': {'ColumnRef': {'fields': [{'A_Star': {}}],\n",
       "          'location': 7}},\n",
       "        'location': 7}}],\n",
       "     'fromClause': [{'JoinExpr': {'jointype': 'JOIN_INNER',\n",
       "        'larg': {'RangeVar': {'relname': 'foo',\n",
       "          'inh': True,\n",
       "          'relpersistence': 'p',\n",
       "          'location': 14}},\n",
       "        'rarg': {'RangeVar': {'relname': 'bar',\n",
       "          'inh': True,\n",
       "          'relpersistence': 'p',\n",
       "          'location': 29}}}}],\n",
       "     'limitOption': 'LIMIT_OPTION_DEFAULT',\n",
       "     'op': 'SETOP_NONE'}}}]}"
      ]
     },
     "execution_count": 48,
     "metadata": {},
     "output_type": "execute_result"
    }
   ],
   "source": [
    "parse_tree = pglast.parser.parse_sql_json(\"SELECT * FROM foo CROSS JOIN bar\")\n",
    "json.loads(parse_tree)"
   ]
  },
  {
   "cell_type": "code",
   "execution_count": 49,
   "metadata": {},
   "outputs": [
    {
     "data": {
      "text/plain": [
       "{'version': 170000,\n",
       " 'stmts': [{'stmt': {'SelectStmt': {'targetList': [{'ResTarget': {'val': {'ColumnRef': {'fields': [{'A_Star': {}}],\n",
       "          'location': 7}},\n",
       "        'location': 7}}],\n",
       "     'fromClause': [{'JoinExpr': {'jointype': 'JOIN_FULL',\n",
       "        'larg': {'RangeVar': {'relname': 'foo',\n",
       "          'inh': True,\n",
       "          'relpersistence': 'p',\n",
       "          'location': 14}},\n",
       "        'rarg': {'RangeVar': {'relname': 'bar',\n",
       "          'inh': True,\n",
       "          'relpersistence': 'p',\n",
       "          'location': 28}},\n",
       "        'quals': {'A_Expr': {'kind': 'AEXPR_OP',\n",
       "          'name': [{'String': {'sval': '='}}],\n",
       "          'lexpr': {'ColumnRef': {'fields': [{'String': {'sval': 'id'}}],\n",
       "            'location': 35}},\n",
       "          'rexpr': {'ColumnRef': {'fields': [{'String': {'sval': 'fkey'}}],\n",
       "            'location': 40}},\n",
       "          'location': 38}}}}],\n",
       "     'limitOption': 'LIMIT_OPTION_DEFAULT',\n",
       "     'op': 'SETOP_NONE'}}}]}"
      ]
     },
     "execution_count": 49,
     "metadata": {},
     "output_type": "execute_result"
    }
   ],
   "source": [
    "parse_tree = pglast.parser.parse_sql_json(\"SELECT * FROM foo FULL JOIN bar ON id = fkey\")\n",
    "json.loads(parse_tree)"
   ]
  },
  {
   "cell_type": "code",
   "execution_count": 50,
   "metadata": {},
   "outputs": [
    {
     "data": {
      "text/plain": [
       "{'version': 170000,\n",
       " 'stmts': [{'stmt': {'SelectStmt': {'targetList': [{'ResTarget': {'val': {'ColumnRef': {'fields': [{'A_Star': {}}],\n",
       "          'location': 7}},\n",
       "        'location': 7}}],\n",
       "     'fromClause': [{'JoinExpr': {'jointype': 'JOIN_LEFT',\n",
       "        'larg': {'RangeVar': {'relname': 'foo',\n",
       "          'inh': True,\n",
       "          'relpersistence': 'p',\n",
       "          'location': 14}},\n",
       "        'rarg': {'RangeVar': {'relname': 'bar',\n",
       "          'inh': True,\n",
       "          'relpersistence': 'p',\n",
       "          'location': 28}},\n",
       "        'quals': {'A_Expr': {'kind': 'AEXPR_OP',\n",
       "          'name': [{'String': {'sval': '='}}],\n",
       "          'lexpr': {'ColumnRef': {'fields': [{'String': {'sval': 'id'}}],\n",
       "            'location': 35}},\n",
       "          'rexpr': {'ColumnRef': {'fields': [{'String': {'sval': 'fkey'}}],\n",
       "            'location': 40}},\n",
       "          'location': 38}}}}],\n",
       "     'limitOption': 'LIMIT_OPTION_DEFAULT',\n",
       "     'op': 'SETOP_NONE'}}}]}"
      ]
     },
     "execution_count": 50,
     "metadata": {},
     "output_type": "execute_result"
    }
   ],
   "source": [
    "parse_tree = pglast.parser.parse_sql_json(\"SELECT * FROM foo LEFT JOIN bar ON id = fkey\")\n",
    "json.loads(parse_tree)"
   ]
  },
  {
   "cell_type": "code",
   "execution_count": 51,
   "metadata": {},
   "outputs": [
    {
     "data": {
      "text/plain": [
       "{'version': 170000,\n",
       " 'stmts': [{'stmt': {'SelectStmt': {'targetList': [{'ResTarget': {'val': {'ColumnRef': {'fields': [{'A_Star': {}}],\n",
       "          'location': 7}},\n",
       "        'location': 7}}],\n",
       "     'fromClause': [{'JoinExpr': {'jointype': 'JOIN_FULL',\n",
       "        'larg': {'RangeVar': {'relname': 'foo',\n",
       "          'inh': True,\n",
       "          'relpersistence': 'p',\n",
       "          'location': 14}},\n",
       "        'rarg': {'RangeVar': {'relname': 'bar',\n",
       "          'inh': True,\n",
       "          'relpersistence': 'p',\n",
       "          'location': 34}},\n",
       "        'quals': {'A_Expr': {'kind': 'AEXPR_OP',\n",
       "          'name': [{'String': {'sval': '='}}],\n",
       "          'lexpr': {'ColumnRef': {'fields': [{'String': {'sval': 'id'}}],\n",
       "            'location': 41}},\n",
       "          'rexpr': {'ColumnRef': {'fields': [{'String': {'sval': 'fkey'}}],\n",
       "            'location': 46}},\n",
       "          'location': 44}}}}],\n",
       "     'limitOption': 'LIMIT_OPTION_DEFAULT',\n",
       "     'op': 'SETOP_NONE'}}}]}"
      ]
     },
     "execution_count": 51,
     "metadata": {},
     "output_type": "execute_result"
    }
   ],
   "source": [
    "parse_tree = pglast.parser.parse_sql_json(\"SELECT * FROM foo FULL OUTER JOIN bar ON id = fkey\")\n",
    "json.loads(parse_tree)"
   ]
  },
  {
   "cell_type": "code",
   "execution_count": 52,
   "metadata": {},
   "outputs": [
    {
     "data": {
      "text/plain": [
       "{'version': 170000,\n",
       " 'stmts': [{'stmt': {'SelectStmt': {'targetList': [{'ResTarget': {'val': {'ColumnRef': {'fields': [{'A_Star': {}}],\n",
       "          'location': 7}},\n",
       "        'location': 7}}],\n",
       "     'fromClause': [{'JoinExpr': {'jointype': 'JOIN_RIGHT',\n",
       "        'larg': {'RangeVar': {'relname': 'foo',\n",
       "          'inh': True,\n",
       "          'relpersistence': 'p',\n",
       "          'location': 14}},\n",
       "        'rarg': {'RangeVar': {'relname': 'bar',\n",
       "          'inh': True,\n",
       "          'relpersistence': 'p',\n",
       "          'location': 35}},\n",
       "        'quals': {'A_Expr': {'kind': 'AEXPR_OP',\n",
       "          'name': [{'String': {'sval': '='}}],\n",
       "          'lexpr': {'ColumnRef': {'fields': [{'String': {'sval': 'id'}}],\n",
       "            'location': 42}},\n",
       "          'rexpr': {'ColumnRef': {'fields': [{'String': {'sval': 'fkey'}}],\n",
       "            'location': 47}},\n",
       "          'location': 45}}}}],\n",
       "     'limitOption': 'LIMIT_OPTION_DEFAULT',\n",
       "     'op': 'SETOP_NONE'}}}]}"
      ]
     },
     "execution_count": 52,
     "metadata": {},
     "output_type": "execute_result"
    }
   ],
   "source": [
    "parse_tree = pglast.parser.parse_sql_json(\"SELECT * FROM foo RIGHT OUTER JOIN bar ON id = fkey\")\n",
    "json.loads(parse_tree)"
   ]
  },
  {
   "cell_type": "code",
   "execution_count": 53,
   "metadata": {},
   "outputs": [
    {
     "data": {
      "text/plain": [
       "{'version': 170000,\n",
       " 'stmts': [{'stmt': {'SelectStmt': {'targetList': [{'ResTarget': {'val': {'ColumnRef': {'fields': [{'A_Star': {}}],\n",
       "          'location': 7}},\n",
       "        'location': 7}}],\n",
       "     'fromClause': [{'JoinExpr': {'jointype': 'JOIN_INNER',\n",
       "        'larg': {'RangeVar': {'relname': 'foo',\n",
       "          'inh': True,\n",
       "          'relpersistence': 'p',\n",
       "          'location': 14}},\n",
       "        'rarg': {'RangeVar': {'relname': 'bar',\n",
       "          'inh': True,\n",
       "          'relpersistence': 'p',\n",
       "          'location': 29}},\n",
       "        'quals': {'A_Expr': {'kind': 'AEXPR_OP',\n",
       "          'name': [{'String': {'sval': '='}}],\n",
       "          'lexpr': {'ColumnRef': {'fields': [{'String': {'sval': 'id'}}],\n",
       "            'location': 36}},\n",
       "          'rexpr': {'ColumnRef': {'fields': [{'String': {'sval': 'fkey'}}],\n",
       "            'location': 41}},\n",
       "          'location': 39}}}}],\n",
       "     'limitOption': 'LIMIT_OPTION_DEFAULT',\n",
       "     'op': 'SETOP_NONE'}}}]}"
      ]
     },
     "execution_count": 53,
     "metadata": {},
     "output_type": "execute_result"
    }
   ],
   "source": [
    "parse_tree = pglast.parser.parse_sql_json(\"SELECT * FROM foo INNER JOIN bar ON id = fkey\")\n",
    "json.loads(parse_tree)"
   ]
  },
  {
   "cell_type": "code",
   "execution_count": 54,
   "metadata": {},
   "outputs": [
    {
     "data": {
      "text/plain": [
       "{'version': 170000,\n",
       " 'stmts': [{'stmt': {'SelectStmt': {'targetList': [{'ResTarget': {'val': {'ColumnRef': {'fields': [{'A_Star': {}}],\n",
       "          'location': 7}},\n",
       "        'location': 7}}],\n",
       "     'fromClause': [{'JoinExpr': {'jointype': 'JOIN_INNER',\n",
       "        'isNatural': True,\n",
       "        'larg': {'RangeVar': {'relname': 'foo',\n",
       "          'inh': True,\n",
       "          'relpersistence': 'p',\n",
       "          'location': 14}},\n",
       "        'rarg': {'RangeVar': {'relname': 'bar',\n",
       "          'inh': True,\n",
       "          'relpersistence': 'p',\n",
       "          'location': 31}}}}],\n",
       "     'limitOption': 'LIMIT_OPTION_DEFAULT',\n",
       "     'op': 'SETOP_NONE'}}}]}"
      ]
     },
     "execution_count": 54,
     "metadata": {},
     "output_type": "execute_result"
    }
   ],
   "source": [
    "parse_tree = pglast.parser.parse_sql_json(\"SELECT * FROM foo NATURAL JOIN bar\")\n",
    "json.loads(parse_tree)"
   ]
  },
  {
   "cell_type": "code",
   "execution_count": 55,
   "metadata": {},
   "outputs": [
    {
     "data": {
      "text/plain": [
       "{'version': 170000,\n",
       " 'stmts': [{'stmt': {'SelectStmt': {'targetList': [{'ResTarget': {'val': {'ColumnRef': {'fields': [{'A_Star': {}}],\n",
       "          'location': 7}},\n",
       "        'location': 7}}],\n",
       "     'fromClause': [{'JoinExpr': {'jointype': 'JOIN_INNER',\n",
       "        'larg': {'RangeVar': {'relname': 'foo',\n",
       "          'inh': True,\n",
       "          'relpersistence': 'p',\n",
       "          'location': 14}},\n",
       "        'rarg': {'RangeVar': {'relname': 'bar',\n",
       "          'inh': True,\n",
       "          'relpersistence': 'p',\n",
       "          'location': 23}},\n",
       "        'usingClause': [{'String': {'sval': 'id'}}]}}],\n",
       "     'limitOption': 'LIMIT_OPTION_DEFAULT',\n",
       "     'op': 'SETOP_NONE'}}}]}"
      ]
     },
     "execution_count": 55,
     "metadata": {},
     "output_type": "execute_result"
    }
   ],
   "source": [
    "parse_tree = pglast.parser.parse_sql_json(\"SELECT * FROM foo JOIN bar USING (id)\")\n",
    "json.loads(parse_tree)"
   ]
  },
  {
   "cell_type": "code",
   "execution_count": 56,
   "metadata": {},
   "outputs": [
    {
     "data": {
      "text/plain": [
       "{'version': 170000,\n",
       " 'stmts': [{'stmt': {'SelectStmt': {'targetList': [{'ResTarget': {'val': {'ColumnRef': {'fields': [{'A_Star': {}}],\n",
       "          'location': 7}},\n",
       "        'location': 7}}],\n",
       "     'fromClause': [{'JoinExpr': {'jointype': 'JOIN_INNER',\n",
       "        'larg': {'RangeVar': {'relname': 'foo',\n",
       "          'inh': True,\n",
       "          'relpersistence': 'p',\n",
       "          'location': 14}},\n",
       "        'rarg': {'RangeVar': {'relname': 'bar',\n",
       "          'inh': True,\n",
       "          'relpersistence': 'p',\n",
       "          'location': 23}},\n",
       "        'usingClause': [{'String': {'sval': 'id'}},\n",
       "         {'String': {'sval': 'fkey'}}]}}],\n",
       "     'limitOption': 'LIMIT_OPTION_DEFAULT',\n",
       "     'op': 'SETOP_NONE'}}}]}"
      ]
     },
     "execution_count": 56,
     "metadata": {},
     "output_type": "execute_result"
    }
   ],
   "source": [
    "parse_tree = pglast.parser.parse_sql_json(\"SELECT * FROM foo JOIN bar USING (id, fkey)\")\n",
    "json.loads(parse_tree)"
   ]
  },
  {
   "cell_type": "code",
   "execution_count": 57,
   "metadata": {},
   "outputs": [
    {
     "data": {
      "text/plain": [
       "{'version': 170000,\n",
       " 'stmts': [{'stmt': {'SelectStmt': {'targetList': [{'ResTarget': {'val': {'ColumnRef': {'fields': [{'A_Star': {}}],\n",
       "          'location': 7}},\n",
       "        'location': 7}}],\n",
       "     'fromClause': [{'JoinExpr': {'jointype': 'JOIN_INNER',\n",
       "        'larg': {'RangeVar': {'relname': 'foo',\n",
       "          'inh': True,\n",
       "          'relpersistence': 'p',\n",
       "          'location': 14}},\n",
       "        'rarg': {'JoinExpr': {'jointype': 'JOIN_INNER',\n",
       "          'larg': {'RangeVar': {'relname': 'bar',\n",
       "            'inh': True,\n",
       "            'relpersistence': 'p',\n",
       "            'location': 24}},\n",
       "          'rarg': {'RangeVar': {'relname': 'baz',\n",
       "            'inh': True,\n",
       "            'relpersistence': 'p',\n",
       "            'location': 33}},\n",
       "          'quals': {'A_Expr': {'kind': 'AEXPR_OP',\n",
       "            'name': [{'String': {'sval': '='}}],\n",
       "            'lexpr': {'ColumnRef': {'fields': [{'String': {'sval': 'a'}}],\n",
       "              'location': 40}},\n",
       "            'rexpr': {'ColumnRef': {'fields': [{'String': {'sval': 'b'}}],\n",
       "              'location': 44}},\n",
       "            'location': 42}}}},\n",
       "        'quals': {'A_Expr': {'kind': 'AEXPR_OP',\n",
       "          'name': [{'String': {'sval': '='}}],\n",
       "          'lexpr': {'ColumnRef': {'fields': [{'String': {'sval': 'c'}}],\n",
       "            'location': 50}},\n",
       "          'rexpr': {'ColumnRef': {'fields': [{'String': {'sval': 'd'}}],\n",
       "            'location': 54}},\n",
       "          'location': 52}}}}],\n",
       "     'limitOption': 'LIMIT_OPTION_DEFAULT',\n",
       "     'op': 'SETOP_NONE'}}}]}"
      ]
     },
     "execution_count": 57,
     "metadata": {},
     "output_type": "execute_result"
    }
   ],
   "source": [
    "parse_tree = pglast.parser.parse_sql_json(\"SELECT * FROM foo JOIN (bar JOIN baz ON a = b) ON c = d\")\n",
    "json.loads(parse_tree)"
   ]
  },
  {
   "cell_type": "markdown",
   "metadata": {},
   "source": [
    "## Advanced FROM clause / JOIN combinations"
   ]
  },
  {
   "cell_type": "code",
   "execution_count": 58,
   "metadata": {},
   "outputs": [
    {
     "data": {
      "text/plain": [
       "{'version': 170000,\n",
       " 'stmts': [{'stmt': {'SelectStmt': {'targetList': [{'ResTarget': {'val': {'ColumnRef': {'fields': [{'A_Star': {}}],\n",
       "          'location': 7}},\n",
       "        'location': 7}}],\n",
       "     'fromClause': [{'RangeVar': {'relname': 'r',\n",
       "        'inh': True,\n",
       "        'relpersistence': 'p',\n",
       "        'location': 14}},\n",
       "      {'JoinExpr': {'jointype': 'JOIN_INNER',\n",
       "        'larg': {'RangeVar': {'relname': 's',\n",
       "          'inh': True,\n",
       "          'relpersistence': 'p',\n",
       "          'alias': {'aliasname': 's'},\n",
       "          'location': 17}},\n",
       "        'rarg': {'RangeVar': {'relname': 'r1',\n",
       "          'inh': True,\n",
       "          'relpersistence': 'p',\n",
       "          'location': 26}},\n",
       "        'quals': {'A_Expr': {'kind': 'AEXPR_OP',\n",
       "          'name': [{'String': {'sval': '='}}],\n",
       "          'lexpr': {'ColumnRef': {'fields': [{'String': {'sval': 'r'}},\n",
       "             {'String': {'sval': 'id'}}],\n",
       "            'location': 32}},\n",
       "          'rexpr': {'ColumnRef': {'fields': [{'String': {'sval': 'r1'}},\n",
       "             {'String': {'sval': 'id'}}],\n",
       "            'location': 39}},\n",
       "          'location': 37}}}}],\n",
       "     'limitOption': 'LIMIT_OPTION_DEFAULT',\n",
       "     'op': 'SETOP_NONE'}}}]}"
      ]
     },
     "execution_count": 58,
     "metadata": {},
     "output_type": "execute_result"
    }
   ],
   "source": [
    "parse_tree = pglast.parser.parse_sql_json(\"SELECT * FROM R, S s JOIN R1 ON R.id = R1.id\")\n",
    "json.loads(parse_tree)"
   ]
  },
  {
   "cell_type": "code",
   "execution_count": 59,
   "metadata": {},
   "outputs": [
    {
     "data": {
      "text/plain": [
       "{'version': 170000,\n",
       " 'stmts': [{'stmt': {'SelectStmt': {'targetList': [{'ResTarget': {'val': {'ColumnRef': {'fields': [{'A_Star': {}}],\n",
       "          'location': 7}},\n",
       "        'location': 7}}],\n",
       "     'fromClause': [{'RangeVar': {'relname': 'r',\n",
       "        'inh': True,\n",
       "        'relpersistence': 'p',\n",
       "        'location': 14}},\n",
       "      {'JoinExpr': {'jointype': 'JOIN_INNER',\n",
       "        'larg': {'RangeVar': {'relname': 's',\n",
       "          'inh': True,\n",
       "          'relpersistence': 'p',\n",
       "          'alias': {'aliasname': 's'},\n",
       "          'location': 17}},\n",
       "        'rarg': {'RangeVar': {'relname': 'r1',\n",
       "          'inh': True,\n",
       "          'relpersistence': 'p',\n",
       "          'alias': {'aliasname': 'r1'},\n",
       "          'location': 26}},\n",
       "        'quals': {'A_Expr': {'kind': 'AEXPR_OP',\n",
       "          'name': [{'String': {'sval': '='}}],\n",
       "          'lexpr': {'ColumnRef': {'fields': [{'String': {'sval': 'r'}},\n",
       "             {'String': {'sval': 'id'}}],\n",
       "            'location': 35}},\n",
       "          'rexpr': {'ColumnRef': {'fields': [{'String': {'sval': 'r1'}},\n",
       "             {'String': {'sval': 'id'}}],\n",
       "            'location': 42}},\n",
       "          'location': 40}}}}],\n",
       "     'limitOption': 'LIMIT_OPTION_DEFAULT',\n",
       "     'op': 'SETOP_NONE'}}}]}"
      ]
     },
     "execution_count": 59,
     "metadata": {},
     "output_type": "execute_result"
    }
   ],
   "source": [
    "parse_tree = pglast.parser.parse_sql_json(\"SELECT * FROM R, S s JOIN R1 r1 ON R.id = R1.id\")\n",
    "json.loads(parse_tree)"
   ]
  },
  {
   "cell_type": "code",
   "execution_count": 60,
   "metadata": {},
   "outputs": [
    {
     "data": {
      "text/plain": [
       "{'version': 170000,\n",
       " 'stmts': [{'stmt': {'SelectStmt': {'targetList': [{'ResTarget': {'val': {'ColumnRef': {'fields': [{'A_Star': {}}],\n",
       "          'location': 7}},\n",
       "        'location': 7}}],\n",
       "     'fromClause': [{'RangeVar': {'relname': 'r',\n",
       "        'inh': True,\n",
       "        'relpersistence': 'p',\n",
       "        'location': 14}},\n",
       "      {'JoinExpr': {'jointype': 'JOIN_INNER',\n",
       "        'larg': {'RangeVar': {'relname': 's',\n",
       "          'inh': True,\n",
       "          'relpersistence': 'p',\n",
       "          'alias': {'aliasname': 's'},\n",
       "          'location': 17}},\n",
       "        'rarg': {'RangeSubselect': {'subquery': {'SelectStmt': {'targetList': [{'ResTarget': {'val': {'ColumnRef': {'fields': [{'A_Star': {}}],\n",
       "                 'location': 34}},\n",
       "               'location': 34}}],\n",
       "            'fromClause': [{'RangeVar': {'relname': 'r1',\n",
       "               'inh': True,\n",
       "               'relpersistence': 'p',\n",
       "               'location': 41}}],\n",
       "            'limitOption': 'LIMIT_OPTION_DEFAULT',\n",
       "            'op': 'SETOP_NONE'}}}},\n",
       "        'quals': {'A_Expr': {'kind': 'AEXPR_OP',\n",
       "          'name': [{'String': {'sval': '='}}],\n",
       "          'lexpr': {'ColumnRef': {'fields': [{'String': {'sval': 'r'}},\n",
       "             {'String': {'sval': 'id'}}],\n",
       "            'location': 48}},\n",
       "          'rexpr': {'ColumnRef': {'fields': [{'String': {'sval': 'r1'}},\n",
       "             {'String': {'sval': 'id'}}],\n",
       "            'location': 55}},\n",
       "          'location': 53}}}}],\n",
       "     'limitOption': 'LIMIT_OPTION_DEFAULT',\n",
       "     'op': 'SETOP_NONE'}}}]}"
      ]
     },
     "execution_count": 60,
     "metadata": {},
     "output_type": "execute_result"
    }
   ],
   "source": [
    "parse_tree = pglast.parser.parse_sql_json(\"SELECT * FROM R, S s JOIN (SELECT * FROM R1) ON R.id = R1.id\")\n",
    "json.loads(parse_tree)"
   ]
  },
  {
   "cell_type": "code",
   "execution_count": 61,
   "metadata": {},
   "outputs": [
    {
     "data": {
      "text/plain": [
       "{'version': 170000,\n",
       " 'stmts': [{'stmt': {'SelectStmt': {'targetList': [{'ResTarget': {'val': {'ColumnRef': {'fields': [{'A_Star': {}}],\n",
       "          'location': 7}},\n",
       "        'location': 7}}],\n",
       "     'fromClause': [{'RangeVar': {'relname': 'r',\n",
       "        'inh': True,\n",
       "        'relpersistence': 'p',\n",
       "        'location': 14}},\n",
       "      {'JoinExpr': {'jointype': 'JOIN_INNER',\n",
       "        'larg': {'RangeVar': {'relname': 's',\n",
       "          'inh': True,\n",
       "          'relpersistence': 'p',\n",
       "          'alias': {'aliasname': 's'},\n",
       "          'location': 17}},\n",
       "        'rarg': {'RangeSubselect': {'subquery': {'SelectStmt': {'targetList': [{'ResTarget': {'val': {'ColumnRef': {'fields': [{'A_Star': {}}],\n",
       "                 'location': 34}},\n",
       "               'location': 34}}],\n",
       "            'fromClause': [{'RangeVar': {'relname': 'r1',\n",
       "               'inh': True,\n",
       "               'relpersistence': 'p',\n",
       "               'location': 41}}],\n",
       "            'limitOption': 'LIMIT_OPTION_DEFAULT',\n",
       "            'op': 'SETOP_NONE'}},\n",
       "          'alias': {'aliasname': 'r1'}}},\n",
       "        'quals': {'A_Expr': {'kind': 'AEXPR_OP',\n",
       "          'name': [{'String': {'sval': '='}}],\n",
       "          'lexpr': {'ColumnRef': {'fields': [{'String': {'sval': 'r'}},\n",
       "             {'String': {'sval': 'id'}}],\n",
       "            'location': 51}},\n",
       "          'rexpr': {'ColumnRef': {'fields': [{'String': {'sval': 'r1'}},\n",
       "             {'String': {'sval': 'id'}}],\n",
       "            'location': 58}},\n",
       "          'location': 56}}}}],\n",
       "     'limitOption': 'LIMIT_OPTION_DEFAULT',\n",
       "     'op': 'SETOP_NONE'}}}]}"
      ]
     },
     "execution_count": 61,
     "metadata": {},
     "output_type": "execute_result"
    }
   ],
   "source": [
    "parse_tree = pglast.parser.parse_sql_json(\"SELECT * FROM R, S s JOIN (SELECT * FROM R1) r1 ON R.id = R1.id\")\n",
    "json.loads(parse_tree)"
   ]
  },
  {
   "cell_type": "markdown",
   "metadata": {},
   "source": [
    "## EXPLAIN"
   ]
  },
  {
   "cell_type": "code",
   "execution_count": 62,
   "metadata": {},
   "outputs": [
    {
     "data": {
      "text/plain": [
       "{'version': 170000,\n",
       " 'stmts': [{'stmt': {'ExplainStmt': {'query': {'SelectStmt': {'targetList': [{'ResTarget': {'val': {'ColumnRef': {'fields': [{'A_Star': {}}],\n",
       "            'location': 15}},\n",
       "          'location': 15}}],\n",
       "       'fromClause': [{'RangeVar': {'relname': 'foo',\n",
       "          'inh': True,\n",
       "          'relpersistence': 'p',\n",
       "          'location': 22}},\n",
       "        {'RangeVar': {'relname': 'bar',\n",
       "          'inh': True,\n",
       "          'relpersistence': 'p',\n",
       "          'location': 27}}],\n",
       "       'whereClause': {'A_Expr': {'kind': 'AEXPR_OP',\n",
       "         'name': [{'String': {'sval': '='}}],\n",
       "         'lexpr': {'ColumnRef': {'fields': [{'String': {'sval': 'id'}}],\n",
       "           'location': 37}},\n",
       "         'rexpr': {'ColumnRef': {'fields': [{'String': {'sval': 'fkey'}}],\n",
       "           'location': 42}},\n",
       "         'location': 40}},\n",
       "       'limitOption': 'LIMIT_OPTION_DEFAULT',\n",
       "       'op': 'SETOP_NONE'}}}}}]}"
      ]
     },
     "execution_count": 62,
     "metadata": {},
     "output_type": "execute_result"
    }
   ],
   "source": [
    "parse_tree = pglast.parser.parse_sql_json(\"EXPLAIN SELECT * FROM foo, bar WHERE id = fkey\")\n",
    "json.loads(parse_tree)"
   ]
  },
  {
   "cell_type": "code",
   "execution_count": 63,
   "metadata": {},
   "outputs": [
    {
     "data": {
      "text/plain": [
       "{'version': 170000,\n",
       " 'stmts': [{'stmt': {'ExplainStmt': {'query': {'SelectStmt': {'targetList': [{'ResTarget': {'val': {'ColumnRef': {'fields': [{'A_Star': {}}],\n",
       "            'location': 38}},\n",
       "          'location': 38}}],\n",
       "       'fromClause': [{'RangeVar': {'relname': 'foo',\n",
       "          'inh': True,\n",
       "          'relpersistence': 'p',\n",
       "          'location': 45}},\n",
       "        {'RangeVar': {'relname': 'bar',\n",
       "          'inh': True,\n",
       "          'relpersistence': 'p',\n",
       "          'location': 50}}],\n",
       "       'whereClause': {'A_Expr': {'kind': 'AEXPR_OP',\n",
       "         'name': [{'String': {'sval': '='}}],\n",
       "         'lexpr': {'ColumnRef': {'fields': [{'String': {'sval': 'id'}}],\n",
       "           'location': 60}},\n",
       "         'rexpr': {'ColumnRef': {'fields': [{'String': {'sval': 'fkey'}}],\n",
       "           'location': 65}},\n",
       "         'location': 63}},\n",
       "       'limitOption': 'LIMIT_OPTION_DEFAULT',\n",
       "       'op': 'SETOP_NONE'}},\n",
       "     'options': [{'DefElem': {'defname': 'analyze',\n",
       "        'defaction': 'DEFELEM_UNSPEC',\n",
       "        'location': 9}},\n",
       "      {'DefElem': {'defname': 'format',\n",
       "        'arg': {'String': {'sval': 'json'}},\n",
       "        'defaction': 'DEFELEM_UNSPEC',\n",
       "        'location': 18}}]}}}]}"
      ]
     },
     "execution_count": 63,
     "metadata": {},
     "output_type": "execute_result"
    }
   ],
   "source": [
    "parse_tree = pglast.parser.parse_sql_json(\"EXPLAIN (ANALYZE, FORMAT JSON) SELECT * FROM foo, bar WHERE id = fkey\")\n",
    "json.loads(parse_tree)"
   ]
  },
  {
   "cell_type": "markdown",
   "metadata": {},
   "source": [
    "## Mathematics"
   ]
  },
  {
   "cell_type": "code",
   "execution_count": 64,
   "metadata": {},
   "outputs": [
    {
     "data": {
      "text/plain": [
       "{'version': 170000,\n",
       " 'stmts': [{'stmt': {'SelectStmt': {'targetList': [{'ResTarget': {'val': {'A_Expr': {'kind': 'AEXPR_OP',\n",
       "          'name': [{'String': {'sval': '+'}}],\n",
       "          'lexpr': {'ColumnRef': {'fields': [{'String': {'sval': 'id'}}],\n",
       "            'location': 7}},\n",
       "          'rexpr': {'A_Const': {'ival': {'ival': 5}, 'location': 12}},\n",
       "          'location': 10}},\n",
       "        'location': 7}}],\n",
       "     'fromClause': [{'RangeVar': {'relname': 'foo',\n",
       "        'inh': True,\n",
       "        'relpersistence': 'p',\n",
       "        'location': 19}}],\n",
       "     'limitOption': 'LIMIT_OPTION_DEFAULT',\n",
       "     'op': 'SETOP_NONE'}}}]}"
      ]
     },
     "execution_count": 64,
     "metadata": {},
     "output_type": "execute_result"
    }
   ],
   "source": [
    "parse_tree = pglast.parser.parse_sql_json(\"SELECT id + 5 FROM foo\")\n",
    "json.loads(parse_tree)"
   ]
  },
  {
   "cell_type": "code",
   "execution_count": 65,
   "metadata": {},
   "outputs": [
    {
     "data": {
      "text/plain": [
       "{'version': 170000,\n",
       " 'stmts': [{'stmt': {'SelectStmt': {'targetList': [{'ResTarget': {'val': {'A_Expr': {'kind': 'AEXPR_OP',\n",
       "          'name': [{'String': {'sval': '-'}}],\n",
       "          'lexpr': {'ColumnRef': {'fields': [{'String': {'sval': 'id'}}],\n",
       "            'location': 7}},\n",
       "          'rexpr': {'A_Const': {'ival': {'ival': 5}, 'location': 12}},\n",
       "          'location': 10}},\n",
       "        'location': 7}}],\n",
       "     'fromClause': [{'RangeVar': {'relname': 'foo',\n",
       "        'inh': True,\n",
       "        'relpersistence': 'p',\n",
       "        'location': 19}}],\n",
       "     'limitOption': 'LIMIT_OPTION_DEFAULT',\n",
       "     'op': 'SETOP_NONE'}}}]}"
      ]
     },
     "execution_count": 65,
     "metadata": {},
     "output_type": "execute_result"
    }
   ],
   "source": [
    "parse_tree = pglast.parser.parse_sql_json(\"SELECT id - 5 FROM foo\")\n",
    "json.loads(parse_tree)"
   ]
  },
  {
   "cell_type": "code",
   "execution_count": 66,
   "metadata": {},
   "outputs": [
    {
     "data": {
      "text/plain": [
       "{'version': 170000,\n",
       " 'stmts': [{'stmt': {'SelectStmt': {'targetList': [{'ResTarget': {'val': {'A_Expr': {'kind': 'AEXPR_OP',\n",
       "          'name': [{'String': {'sval': '*'}}],\n",
       "          'lexpr': {'ColumnRef': {'fields': [{'String': {'sval': 'id'}}],\n",
       "            'location': 7}},\n",
       "          'rexpr': {'A_Const': {'ival': {'ival': 2}, 'location': 12}},\n",
       "          'location': 10}},\n",
       "        'location': 7}}],\n",
       "     'fromClause': [{'RangeVar': {'relname': 'foo',\n",
       "        'inh': True,\n",
       "        'relpersistence': 'p',\n",
       "        'location': 19}}],\n",
       "     'limitOption': 'LIMIT_OPTION_DEFAULT',\n",
       "     'op': 'SETOP_NONE'}}}]}"
      ]
     },
     "execution_count": 66,
     "metadata": {},
     "output_type": "execute_result"
    }
   ],
   "source": [
    "parse_tree = pglast.parser.parse_sql_json(\"SELECT id * 2 FROM foo\")\n",
    "json.loads(parse_tree)"
   ]
  },
  {
   "cell_type": "code",
   "execution_count": 67,
   "metadata": {},
   "outputs": [
    {
     "data": {
      "text/plain": [
       "{'version': 170000,\n",
       " 'stmts': [{'stmt': {'SelectStmt': {'targetList': [{'ResTarget': {'val': {'A_Expr': {'kind': 'AEXPR_OP',\n",
       "          'name': [{'String': {'sval': '/'}}],\n",
       "          'lexpr': {'ColumnRef': {'fields': [{'String': {'sval': 'id'}}],\n",
       "            'location': 7}},\n",
       "          'rexpr': {'A_Const': {'ival': {'ival': 1000}, 'location': 12}},\n",
       "          'location': 10}},\n",
       "        'location': 7}}],\n",
       "     'fromClause': [{'RangeVar': {'relname': 'foo',\n",
       "        'inh': True,\n",
       "        'relpersistence': 'p',\n",
       "        'location': 22}}],\n",
       "     'limitOption': 'LIMIT_OPTION_DEFAULT',\n",
       "     'op': 'SETOP_NONE'}}}]}"
      ]
     },
     "execution_count": 67,
     "metadata": {},
     "output_type": "execute_result"
    }
   ],
   "source": [
    "parse_tree = pglast.parser.parse_sql_json(\"SELECT id / 1000 FROM foo\")\n",
    "json.loads(parse_tree)"
   ]
  },
  {
   "cell_type": "code",
   "execution_count": 68,
   "metadata": {},
   "outputs": [
    {
     "data": {
      "text/plain": [
       "{'version': 170000,\n",
       " 'stmts': [{'stmt': {'SelectStmt': {'targetList': [{'ResTarget': {'val': {'A_Expr': {'kind': 'AEXPR_OP',\n",
       "          'name': [{'String': {'sval': '%'}}],\n",
       "          'lexpr': {'ColumnRef': {'fields': [{'String': {'sval': 'id'}}],\n",
       "            'location': 7}},\n",
       "          'rexpr': {'A_Const': {'ival': {'ival': 2}, 'location': 12}},\n",
       "          'location': 10}},\n",
       "        'location': 7}}],\n",
       "     'fromClause': [{'RangeVar': {'relname': 'foo',\n",
       "        'inh': True,\n",
       "        'relpersistence': 'p',\n",
       "        'location': 19}}],\n",
       "     'limitOption': 'LIMIT_OPTION_DEFAULT',\n",
       "     'op': 'SETOP_NONE'}}}]}"
      ]
     },
     "execution_count": 68,
     "metadata": {},
     "output_type": "execute_result"
    }
   ],
   "source": [
    "parse_tree = pglast.parser.parse_sql_json(\"SELECT id % 2 FROM foo\")\n",
    "json.loads(parse_tree)"
   ]
  },
  {
   "cell_type": "code",
   "execution_count": 69,
   "metadata": {},
   "outputs": [
    {
     "data": {
      "text/plain": [
       "{'version': 170000,\n",
       " 'stmts': [{'stmt': {'SelectStmt': {'targetList': [{'ResTarget': {'val': {'A_Expr': {'kind': 'AEXPR_OP',\n",
       "          'name': [{'String': {'sval': '-'}}],\n",
       "          'rexpr': {'ColumnRef': {'fields': [{'String': {'sval': 'id'}}],\n",
       "            'location': 8}},\n",
       "          'location': 7}},\n",
       "        'location': 7}}],\n",
       "     'fromClause': [{'RangeVar': {'relname': 'foo',\n",
       "        'inh': True,\n",
       "        'relpersistence': 'p',\n",
       "        'location': 16}}],\n",
       "     'limitOption': 'LIMIT_OPTION_DEFAULT',\n",
       "     'op': 'SETOP_NONE'}}}]}"
      ]
     },
     "execution_count": 69,
     "metadata": {},
     "output_type": "execute_result"
    }
   ],
   "source": [
    "parse_tree = pglast.parser.parse_sql_json(\"SELECT -id FROM foo\")\n",
    "json.loads(parse_tree)"
   ]
  },
  {
   "cell_type": "markdown",
   "metadata": {},
   "source": [
    "## Aggregate Functions"
   ]
  },
  {
   "cell_type": "code",
   "execution_count": 70,
   "metadata": {},
   "outputs": [
    {
     "data": {
      "text/plain": [
       "{'version': 170000,\n",
       " 'stmts': [{'stmt': {'SelectStmt': {'targetList': [{'ResTarget': {'val': {'FuncCall': {'funcname': [{'String': {'sval': 'count'}}],\n",
       "          'agg_star': True,\n",
       "          'funcformat': 'COERCE_EXPLICIT_CALL',\n",
       "          'location': 7}},\n",
       "        'location': 7}}],\n",
       "     'fromClause': [{'RangeVar': {'relname': 'foo',\n",
       "        'inh': True,\n",
       "        'relpersistence': 'p',\n",
       "        'location': 21}}],\n",
       "     'limitOption': 'LIMIT_OPTION_DEFAULT',\n",
       "     'op': 'SETOP_NONE'}}}]}"
      ]
     },
     "execution_count": 70,
     "metadata": {},
     "output_type": "execute_result"
    }
   ],
   "source": [
    "parse_tree = pglast.parser.parse_sql_json(\"SELECT COUNT(*) FROM foo\")\n",
    "json.loads(parse_tree)"
   ]
  },
  {
   "cell_type": "code",
   "execution_count": 71,
   "metadata": {},
   "outputs": [
    {
     "data": {
      "text/plain": [
       "{'version': 170000,\n",
       " 'stmts': [{'stmt': {'SelectStmt': {'targetList': [{'ResTarget': {'val': {'FuncCall': {'funcname': [{'String': {'sval': 'count'}}],\n",
       "          'args': [{'ColumnRef': {'fields': [{'String': {'sval': 'id'}}],\n",
       "             'location': 13}}],\n",
       "          'funcformat': 'COERCE_EXPLICIT_CALL',\n",
       "          'location': 7}},\n",
       "        'location': 7}}],\n",
       "     'fromClause': [{'RangeVar': {'relname': 'foo',\n",
       "        'inh': True,\n",
       "        'relpersistence': 'p',\n",
       "        'location': 22}}],\n",
       "     'limitOption': 'LIMIT_OPTION_DEFAULT',\n",
       "     'op': 'SETOP_NONE'}}}]}"
      ]
     },
     "execution_count": 71,
     "metadata": {},
     "output_type": "execute_result"
    }
   ],
   "source": [
    "parse_tree = pglast.parser.parse_sql_json(\"SELECT COUNT(id) FROM foo\")\n",
    "json.loads(parse_tree)"
   ]
  },
  {
   "cell_type": "code",
   "execution_count": 72,
   "metadata": {},
   "outputs": [
    {
     "data": {
      "text/plain": [
       "{'version': 170000,\n",
       " 'stmts': [{'stmt': {'SelectStmt': {'targetList': [{'ResTarget': {'val': {'FuncCall': {'funcname': [{'String': {'sval': 'avg'}}],\n",
       "          'args': [{'ColumnRef': {'fields': [{'String': {'sval': 'id'}}],\n",
       "             'location': 11}}],\n",
       "          'funcformat': 'COERCE_EXPLICIT_CALL',\n",
       "          'location': 7}},\n",
       "        'location': 7}}],\n",
       "     'fromClause': [{'RangeVar': {'relname': 'foo',\n",
       "        'inh': True,\n",
       "        'relpersistence': 'p',\n",
       "        'location': 20}}],\n",
       "     'limitOption': 'LIMIT_OPTION_DEFAULT',\n",
       "     'op': 'SETOP_NONE'}}}]}"
      ]
     },
     "execution_count": 72,
     "metadata": {},
     "output_type": "execute_result"
    }
   ],
   "source": [
    "parse_tree = pglast.parser.parse_sql_json(\"SELECT AVG(id) FROM foo\")\n",
    "json.loads(parse_tree)"
   ]
  },
  {
   "cell_type": "code",
   "execution_count": 73,
   "metadata": {},
   "outputs": [
    {
     "data": {
      "text/plain": [
       "{'version': 170000,\n",
       " 'stmts': [{'stmt': {'SelectStmt': {'targetList': [{'ResTarget': {'val': {'FuncCall': {'funcname': [{'String': {'sval': 'avg'}}],\n",
       "          'args': [{'A_Const': {'sval': {'sval': 'bar'}, 'location': 11}}],\n",
       "          'funcformat': 'COERCE_EXPLICIT_CALL',\n",
       "          'location': 7}},\n",
       "        'location': 7}}],\n",
       "     'fromClause': [{'RangeVar': {'relname': 'foo',\n",
       "        'inh': True,\n",
       "        'relpersistence': 'p',\n",
       "        'location': 23}}],\n",
       "     'limitOption': 'LIMIT_OPTION_DEFAULT',\n",
       "     'op': 'SETOP_NONE'}}}]}"
      ]
     },
     "execution_count": 73,
     "metadata": {},
     "output_type": "execute_result"
    }
   ],
   "source": [
    "parse_tree = pglast.parser.parse_sql_json(\"SELECT AVG('bar') FROM foo\")\n",
    "json.loads(parse_tree)"
   ]
  },
  {
   "cell_type": "code",
   "execution_count": 74,
   "metadata": {},
   "outputs": [
    {
     "data": {
      "text/plain": [
       "{'version': 170000,\n",
       " 'stmts': [{'stmt': {'SelectStmt': {'targetList': [{'ResTarget': {'val': {'FuncCall': {'funcname': [{'String': {'sval': 'min'}}],\n",
       "          'args': [{'ColumnRef': {'fields': [{'String': {'sval': 'id'}}],\n",
       "             'location': 11}}],\n",
       "          'funcformat': 'COERCE_EXPLICIT_CALL',\n",
       "          'location': 7}},\n",
       "        'location': 7}}],\n",
       "     'fromClause': [{'RangeVar': {'relname': 'foo',\n",
       "        'inh': True,\n",
       "        'relpersistence': 'p',\n",
       "        'location': 20}}],\n",
       "     'limitOption': 'LIMIT_OPTION_DEFAULT',\n",
       "     'op': 'SETOP_NONE'}}}]}"
      ]
     },
     "execution_count": 74,
     "metadata": {},
     "output_type": "execute_result"
    }
   ],
   "source": [
    "parse_tree = pglast.parser.parse_sql_json(\"SELECT MIN(id) FROM foo\")\n",
    "json.loads(parse_tree)"
   ]
  },
  {
   "cell_type": "code",
   "execution_count": 75,
   "metadata": {},
   "outputs": [
    {
     "data": {
      "text/plain": [
       "{'version': 170000,\n",
       " 'stmts': [{'stmt': {'SelectStmt': {'targetList': [{'ResTarget': {'val': {'FuncCall': {'funcname': [{'String': {'sval': 'max'}}],\n",
       "          'args': [{'ColumnRef': {'fields': [{'String': {'sval': 'id'}}],\n",
       "             'location': 11}}],\n",
       "          'funcformat': 'COERCE_EXPLICIT_CALL',\n",
       "          'location': 7}},\n",
       "        'location': 7}}],\n",
       "     'fromClause': [{'RangeVar': {'relname': 'foo',\n",
       "        'inh': True,\n",
       "        'relpersistence': 'p',\n",
       "        'location': 20}}],\n",
       "     'limitOption': 'LIMIT_OPTION_DEFAULT',\n",
       "     'op': 'SETOP_NONE'}}}]}"
      ]
     },
     "execution_count": 75,
     "metadata": {},
     "output_type": "execute_result"
    }
   ],
   "source": [
    "parse_tree = pglast.parser.parse_sql_json(\"SELECT MAX(id) FROM foo\")\n",
    "json.loads(parse_tree)"
   ]
  },
  {
   "cell_type": "code",
   "execution_count": 76,
   "metadata": {},
   "outputs": [
    {
     "data": {
      "text/plain": [
       "{'version': 170000,\n",
       " 'stmts': [{'stmt': {'SelectStmt': {'targetList': [{'ResTarget': {'val': {'FuncCall': {'funcname': [{'String': {'sval': 'sum'}}],\n",
       "          'args': [{'ColumnRef': {'fields': [{'String': {'sval': 'id'}}],\n",
       "             'location': 11}}],\n",
       "          'funcformat': 'COERCE_EXPLICIT_CALL',\n",
       "          'location': 7}},\n",
       "        'location': 7}}],\n",
       "     'fromClause': [{'RangeVar': {'relname': 'foo',\n",
       "        'inh': True,\n",
       "        'relpersistence': 'p',\n",
       "        'location': 20}}],\n",
       "     'limitOption': 'LIMIT_OPTION_DEFAULT',\n",
       "     'op': 'SETOP_NONE'}}}]}"
      ]
     },
     "execution_count": 76,
     "metadata": {},
     "output_type": "execute_result"
    }
   ],
   "source": [
    "parse_tree = pglast.parser.parse_sql_json(\"SELECT SUM(id) FROM foo\")\n",
    "json.loads(parse_tree)"
   ]
  },
  {
   "cell_type": "markdown",
   "metadata": {},
   "source": [
    "## Function calls"
   ]
  },
  {
   "cell_type": "code",
   "execution_count": 77,
   "metadata": {},
   "outputs": [
    {
     "data": {
      "text/plain": [
       "{'version': 170000,\n",
       " 'stmts': [{'stmt': {'SelectStmt': {'targetList': [{'ResTarget': {'val': {'SQLValueFunction': {'op': 'SVFOP_CURRENT_DATE',\n",
       "          'typmod': -1,\n",
       "          'location': 7}},\n",
       "        'location': 7}}],\n",
       "     'fromClause': [{'RangeVar': {'relname': 'foo',\n",
       "        'inh': True,\n",
       "        'relpersistence': 'p',\n",
       "        'location': 25}}],\n",
       "     'whereClause': {'A_Expr': {'kind': 'AEXPR_OP',\n",
       "       'name': [{'String': {'sval': '='}}],\n",
       "       'lexpr': {'FuncCall': {'funcname': [{'String': {'sval': 'upper'}}],\n",
       "         'args': [{'ColumnRef': {'fields': [{'String': {'sval': 'id'}}],\n",
       "            'location': 41}}],\n",
       "         'funcformat': 'COERCE_EXPLICIT_CALL',\n",
       "         'location': 35}},\n",
       "       'rexpr': {'ColumnRef': {'fields': [{'String': {'sval': 'id'}}],\n",
       "         'location': 47}},\n",
       "       'location': 45}},\n",
       "     'limitOption': 'LIMIT_OPTION_DEFAULT',\n",
       "     'op': 'SETOP_NONE'}}}]}"
      ]
     },
     "execution_count": 77,
     "metadata": {},
     "output_type": "execute_result"
    }
   ],
   "source": [
    "parse_tree = pglast.parser.parse_sql_json(\"SELECT CURRENT_DATE FROM foo WHERE UPPER(id) = id\")\n",
    "json.loads(parse_tree)"
   ]
  },
  {
   "cell_type": "code",
   "execution_count": 78,
   "metadata": {},
   "outputs": [
    {
     "data": {
      "text/plain": [
       "{'version': 170000,\n",
       " 'stmts': [{'stmt': {'SelectStmt': {'targetList': [{'ResTarget': {'val': {'FuncCall': {'funcname': [{'String': {'sval': 'soundex'}}],\n",
       "          'args': [{'FuncCall': {'funcname': [{'String': {'sval': 'upper'}}],\n",
       "             'args': [{'A_Const': {'sval': {'sval': 'id'}, 'location': 21}}],\n",
       "             'funcformat': 'COERCE_EXPLICIT_CALL',\n",
       "             'location': 15}}],\n",
       "          'funcformat': 'COERCE_EXPLICIT_CALL',\n",
       "          'location': 7}},\n",
       "        'location': 7}}],\n",
       "     'limitOption': 'LIMIT_OPTION_DEFAULT',\n",
       "     'op': 'SETOP_NONE'}}}]}"
      ]
     },
     "execution_count": 78,
     "metadata": {},
     "output_type": "execute_result"
    }
   ],
   "source": [
    "parse_tree = pglast.parser.parse_sql_json(\"SELECT SOUNDEX(UPPER('id'))\")\n",
    "json.loads(parse_tree)"
   ]
  },
  {
   "cell_type": "code",
   "execution_count": 79,
   "metadata": {},
   "outputs": [
    {
     "data": {
      "text/plain": [
       "{'version': 170000,\n",
       " 'stmts': [{'stmt': {'SelectStmt': {'targetList': [{'ResTarget': {'val': {'FuncCall': {'funcname': [{'String': {'sval': 'repeat'}}],\n",
       "          'args': [{'A_Const': {'sval': {'sval': 'id'}, 'location': 14}},\n",
       "           {'A_Const': {'ival': {'ival': 5}, 'location': 20}}],\n",
       "          'funcformat': 'COERCE_EXPLICIT_CALL',\n",
       "          'location': 7}},\n",
       "        'location': 7}}],\n",
       "     'limitOption': 'LIMIT_OPTION_DEFAULT',\n",
       "     'op': 'SETOP_NONE'}}}]}"
      ]
     },
     "execution_count": 79,
     "metadata": {},
     "output_type": "execute_result"
    }
   ],
   "source": [
    "parse_tree = pglast.parser.parse_sql_json(\"SELECT REPEAT('id', 5)\")\n",
    "json.loads(parse_tree)"
   ]
  },
  {
   "cell_type": "code",
   "execution_count": 80,
   "metadata": {},
   "outputs": [
    {
     "data": {
      "text/plain": [
       "{'version': 170000,\n",
       " 'stmts': [{'stmt': {'SelectStmt': {'targetList': [{'ResTarget': {'val': {'FuncCall': {'funcname': [{'String': {'sval': 'upper'}}],\n",
       "          'args': [{'ColumnRef': {'fields': [{'String': {'sval': 'id'}}],\n",
       "             'location': 13}}],\n",
       "          'funcformat': 'COERCE_EXPLICIT_CALL',\n",
       "          'location': 7}},\n",
       "        'location': 7}}],\n",
       "     'fromClause': [{'RangeVar': {'relname': 'foo',\n",
       "        'inh': True,\n",
       "        'relpersistence': 'p',\n",
       "        'location': 22}}],\n",
       "     'limitOption': 'LIMIT_OPTION_DEFAULT',\n",
       "     'op': 'SETOP_NONE'}}}]}"
      ]
     },
     "execution_count": 80,
     "metadata": {},
     "output_type": "execute_result"
    }
   ],
   "source": [
    "parse_tree = pglast.parser.parse_sql_json(\"SELECT UPPER(id) FROM foo\")\n",
    "json.loads(parse_tree)"
   ]
  },
  {
   "cell_type": "code",
   "execution_count": 81,
   "metadata": {},
   "outputs": [
    {
     "data": {
      "text/plain": [
       "{'version': 170000,\n",
       " 'stmts': [{'stmt': {'SelectStmt': {'targetList': [{'ResTarget': {'val': {'FuncCall': {'funcname': [{'String': {'sval': 'lower'}}],\n",
       "          'args': [{'BoolExpr': {'boolop': 'OR_EXPR',\n",
       "             'args': [{'ColumnRef': {'fields': [{'String': {'sval': 'id'}}],\n",
       "                'location': 13}},\n",
       "              {'ColumnRef': {'fields': [{'String': {'sval': 'key'}}],\n",
       "                'location': 19}},\n",
       "              {'ColumnRef': {'fields': [{'String': {'sval': 'fkey'}}],\n",
       "                'location': 26}}],\n",
       "             'location': 16}}],\n",
       "          'funcformat': 'COERCE_EXPLICIT_CALL',\n",
       "          'location': 7}},\n",
       "        'location': 7}}],\n",
       "     'fromClause': [{'RangeVar': {'relname': 'foo',\n",
       "        'inh': True,\n",
       "        'relpersistence': 'p',\n",
       "        'location': 37}}],\n",
       "     'limitOption': 'LIMIT_OPTION_DEFAULT',\n",
       "     'op': 'SETOP_NONE'}}}]}"
      ]
     },
     "execution_count": 81,
     "metadata": {},
     "output_type": "execute_result"
    }
   ],
   "source": [
    "parse_tree = pglast.parser.parse_sql_json(\"SELECT LOWER(id OR key OR fkey) FROM foo\")\n",
    "json.loads(parse_tree)"
   ]
  },
  {
   "cell_type": "markdown",
   "metadata": {},
   "source": [
    "## GROUP BY, ORDER BY, HAVING, LIMIT"
   ]
  },
  {
   "cell_type": "code",
   "execution_count": 82,
   "metadata": {},
   "outputs": [
    {
     "data": {
      "text/plain": [
       "{'version': 170000,\n",
       " 'stmts': [{'stmt': {'SelectStmt': {'targetList': [{'ResTarget': {'val': {'ColumnRef': {'fields': [{'A_Star': {}}],\n",
       "          'location': 7}},\n",
       "        'location': 7}}],\n",
       "     'fromClause': [{'RangeVar': {'relname': 'foo',\n",
       "        'inh': True,\n",
       "        'relpersistence': 'p',\n",
       "        'location': 14}}],\n",
       "     'groupClause': [{'ColumnRef': {'fields': [{'String': {'sval': 'id'}}],\n",
       "        'location': 27}}],\n",
       "     'limitOption': 'LIMIT_OPTION_DEFAULT',\n",
       "     'op': 'SETOP_NONE'}}}]}"
      ]
     },
     "execution_count": 82,
     "metadata": {},
     "output_type": "execute_result"
    }
   ],
   "source": [
    "parse_tree = pglast.parser.parse_sql_json(\"SELECT * FROM foo GROUP BY id\")\n",
    "json.loads(parse_tree)"
   ]
  },
  {
   "cell_type": "code",
   "execution_count": 83,
   "metadata": {},
   "outputs": [
    {
     "data": {
      "text/plain": [
       "{'version': 170000,\n",
       " 'stmts': [{'stmt': {'SelectStmt': {'targetList': [{'ResTarget': {'val': {'ColumnRef': {'fields': [{'A_Star': {}}],\n",
       "          'location': 7}},\n",
       "        'location': 7}}],\n",
       "     'fromClause': [{'RangeVar': {'relname': 'foo',\n",
       "        'inh': True,\n",
       "        'relpersistence': 'p',\n",
       "        'location': 14}}],\n",
       "     'groupClause': [{'ColumnRef': {'fields': [{'String': {'sval': 'id'}}],\n",
       "        'location': 27}},\n",
       "      {'ColumnRef': {'fields': [{'String': {'sval': 'key'}}],\n",
       "        'location': 31}}],\n",
       "     'limitOption': 'LIMIT_OPTION_DEFAULT',\n",
       "     'op': 'SETOP_NONE'}}}]}"
      ]
     },
     "execution_count": 83,
     "metadata": {},
     "output_type": "execute_result"
    }
   ],
   "source": [
    "parse_tree = pglast.parser.parse_sql_json(\"SELECT * FROM foo GROUP BY id, key\")\n",
    "json.loads(parse_tree)"
   ]
  },
  {
   "cell_type": "code",
   "execution_count": null,
   "metadata": {},
   "outputs": [
    {
     "data": {
      "text/plain": [
       "{'version': 170000,\n",
       " 'stmts': [{'stmt': {'SelectStmt': {'targetList': [{'ResTarget': {'val': {'ColumnRef': {'fields': [{'A_Star': {}}],\n",
       "          'location': 7}},\n",
       "        'location': 7}}],\n",
       "     'fromClause': [{'RangeVar': {'relname': 'foo',\n",
       "        'inh': True,\n",
       "        'relpersistence': 'p',\n",
       "        'location': 14}}],\n",
       "     'groupClause': [{'ColumnRef': {'fields': [{'String': {'sval': 'id'}}],\n",
       "        'location': 31}}],\n",
       "     'limitOption': 'LIMIT_OPTION_DEFAULT',\n",
       "     'op': 'SETOP_NONE'}}}]}"
      ]
     },
     "execution_count": 84,
     "metadata": {},
     "output_type": "execute_result"
    }
   ],
   "source": [
    "parse_tree = pglast.parser.parse_sql_json(\"SELECT * FROM foo GROUP BY ALL id\")\n",
    "json.loads(parse_tree)"
   ]
  },
  {
   "cell_type": "code",
   "execution_count": null,
   "metadata": {},
   "outputs": [
    {
     "data": {
      "text/plain": [
       "{'version': 170000,\n",
       " 'stmts': [{'stmt': {'SelectStmt': {'targetList': [{'ResTarget': {'val': {'ColumnRef': {'fields': [{'A_Star': {}}],\n",
       "          'location': 7}},\n",
       "        'location': 7}}],\n",
       "     'fromClause': [{'RangeVar': {'relname': 'foo',\n",
       "        'inh': True,\n",
       "        'relpersistence': 'p',\n",
       "        'location': 14}}],\n",
       "     'groupClause': [{'ColumnRef': {'fields': [{'String': {'sval': 'id'}}],\n",
       "        'location': 36}}],\n",
       "     'groupDistinct': True,\n",
       "     'limitOption': 'LIMIT_OPTION_DEFAULT',\n",
       "     'op': 'SETOP_NONE'}}}]}"
      ]
     },
     "execution_count": 85,
     "metadata": {},
     "output_type": "execute_result"
    }
   ],
   "source": [
    "parse_tree = pglast.parser.parse_sql_json(\"SELECT * FROM foo GROUP BY DISTINCT id\")\n",
    "json.loads(parse_tree)"
   ]
  },
  {
   "cell_type": "code",
   "execution_count": null,
   "metadata": {},
   "outputs": [
    {
     "data": {
      "text/plain": [
       "{'version': 170000,\n",
       " 'stmts': [{'stmt': {'SelectStmt': {'targetList': [{'ResTarget': {'val': {'ColumnRef': {'fields': [{'A_Star': {}}],\n",
       "          'location': 7}},\n",
       "        'location': 7}}],\n",
       "     'fromClause': [{'RangeVar': {'relname': 'foo',\n",
       "        'inh': True,\n",
       "        'relpersistence': 'p',\n",
       "        'location': 14}}],\n",
       "     'groupClause': [{'ColumnRef': {'fields': [{'String': {'sval': 'id'}}],\n",
       "        'location': 36}},\n",
       "      {'ColumnRef': {'fields': [{'String': {'sval': 'key'}}],\n",
       "        'location': 40}}],\n",
       "     'groupDistinct': True,\n",
       "     'limitOption': 'LIMIT_OPTION_DEFAULT',\n",
       "     'op': 'SETOP_NONE'}}}]}"
      ]
     },
     "execution_count": 86,
     "metadata": {},
     "output_type": "execute_result"
    }
   ],
   "source": [
    "parse_tree = pglast.parser.parse_sql_json(\"SELECT * FROM foo GROUP BY DISTINCT id, key\")\n",
    "json.loads(parse_tree)"
   ]
  },
  {
   "cell_type": "code",
   "execution_count": null,
   "metadata": {},
   "outputs": [
    {
     "data": {
      "text/plain": [
       "{'version': 170000,\n",
       " 'stmts': [{'stmt': {'SelectStmt': {'targetList': [{'ResTarget': {'val': {'ColumnRef': {'fields': [{'A_Star': {}}],\n",
       "          'location': 7}},\n",
       "        'location': 7}}],\n",
       "     'fromClause': [{'RangeVar': {'relname': 'foo',\n",
       "        'inh': True,\n",
       "        'relpersistence': 'p',\n",
       "        'location': 14}}],\n",
       "     'groupClause': [{'ColumnRef': {'fields': [{'String': {'sval': 'id'}}],\n",
       "        'location': 27}}],\n",
       "     'havingClause': {'A_Expr': {'kind': 'AEXPR_OP',\n",
       "       'name': [{'String': {'sval': '='}}],\n",
       "       'lexpr': {'FuncCall': {'funcname': [{'String': {'sval': 'sum'}}],\n",
       "         'args': [{'ColumnRef': {'fields': [{'String': {'sval': 'id'}}],\n",
       "            'location': 41}}],\n",
       "         'funcformat': 'COERCE_EXPLICIT_CALL',\n",
       "         'location': 37}},\n",
       "       'rexpr': {'A_Const': {'ival': {'ival': 42}, 'location': 47}},\n",
       "       'location': 45}},\n",
       "     'limitOption': 'LIMIT_OPTION_DEFAULT',\n",
       "     'op': 'SETOP_NONE'}}}]}"
      ]
     },
     "execution_count": 87,
     "metadata": {},
     "output_type": "execute_result"
    }
   ],
   "source": [
    "parse_tree = pglast.parser.parse_sql_json(\"SELECT * FROM foo GROUP BY id HAVING SUM(id) = 42\")\n",
    "json.loads(parse_tree)"
   ]
  },
  {
   "cell_type": "code",
   "execution_count": null,
   "metadata": {},
   "outputs": [
    {
     "data": {
      "text/plain": [
       "{'version': 170000,\n",
       " 'stmts': [{'stmt': {'SelectStmt': {'targetList': [{'ResTarget': {'val': {'ColumnRef': {'fields': [{'A_Star': {}}],\n",
       "          'location': 7}},\n",
       "        'location': 7}}],\n",
       "     'fromClause': [{'RangeVar': {'relname': 'foo',\n",
       "        'inh': True,\n",
       "        'relpersistence': 'p',\n",
       "        'location': 14}}],\n",
       "     'groupClause': [{'ColumnRef': {'fields': [{'String': {'sval': 'id'}}],\n",
       "        'location': 27}}],\n",
       "     'havingClause': {'BoolExpr': {'boolop': 'AND_EXPR',\n",
       "       'args': [{'A_Expr': {'kind': 'AEXPR_OP',\n",
       "          'name': [{'String': {'sval': '='}}],\n",
       "          'lexpr': {'FuncCall': {'funcname': [{'String': {'sval': 'sum'}}],\n",
       "            'args': [{'ColumnRef': {'fields': [{'String': {'sval': 'id'}}],\n",
       "               'location': 41}}],\n",
       "            'funcformat': 'COERCE_EXPLICIT_CALL',\n",
       "            'location': 37}},\n",
       "          'rexpr': {'A_Const': {'ival': {'ival': 42}, 'location': 47}},\n",
       "          'location': 45}},\n",
       "        {'A_Expr': {'kind': 'AEXPR_OP',\n",
       "          'name': [{'String': {'sval': '='}}],\n",
       "          'lexpr': {'ColumnRef': {'fields': [{'String': {'sval': 'id'}}],\n",
       "            'location': 54}},\n",
       "          'rexpr': {'A_Const': {'ival': {'ival': 1}, 'location': 59}},\n",
       "          'location': 57}}],\n",
       "       'location': 50}},\n",
       "     'limitOption': 'LIMIT_OPTION_DEFAULT',\n",
       "     'op': 'SETOP_NONE'}}}]}"
      ]
     },
     "execution_count": 88,
     "metadata": {},
     "output_type": "execute_result"
    }
   ],
   "source": [
    "parse_tree = pglast.parser.parse_sql_json(\"SELECT * FROM foo GROUP BY id HAVING SUM(id) = 42 AND id = 1\")\n",
    "json.loads(parse_tree)"
   ]
  },
  {
   "cell_type": "code",
   "execution_count": null,
   "metadata": {},
   "outputs": [],
   "source": [
    "parse_tree = pglast.parser.parse_sql_json(\"SELECT * FROM foo ORDER BY id\")\n",
    "json.loads(parse_tree)"
   ]
  },
  {
   "cell_type": "code",
   "execution_count": null,
   "metadata": {},
   "outputs": [],
   "source": [
    "parse_tree = pglast.parser.parse_sql_json(\"SELECT * FROM foo ORDER BY id DESC\")\n",
    "json.loads(parse_tree)"
   ]
  },
  {
   "cell_type": "code",
   "execution_count": null,
   "metadata": {},
   "outputs": [],
   "source": [
    "parse_tree = pglast.parser.parse_sql_json(\"SELECT * FROM foo ORDER BY id, key\")\n",
    "json.loads(parse_tree)"
   ]
  },
  {
   "cell_type": "code",
   "execution_count": null,
   "metadata": {},
   "outputs": [],
   "source": [
    "parse_tree = pglast.parser.parse_sql_json(\"SELECT * FROM foo ORDER BY id DESC, key ASC\")\n",
    "json.loads(parse_tree)"
   ]
  },
  {
   "cell_type": "code",
   "execution_count": null,
   "metadata": {},
   "outputs": [],
   "source": [
    "parse_tree = pglast.parser.parse_sql_json(\"SELECT * FROM foo LIMIT 10 OFFSET 20\")\n",
    "json.loads(parse_tree)\n"
   ]
  },
  {
   "cell_type": "markdown",
   "metadata": {},
   "source": [
    "## Common Table Expressions\n"
   ]
  },
  {
   "cell_type": "code",
   "execution_count": 94,
   "metadata": {},
   "outputs": [],
   "source": [
    "parse_tree = pglast.parser.parse_sql_json(\"\"\"\n",
    "WITH top100_posters AS (\n",
    "\tSELECT owner_user_id, COUNT(*) AS n_answers\n",
    "\tFROM answer, site\n",
    "\tWHERE site.site_name = 'stackoverflow'\n",
    "\t\tAND answer.site_id = site.site_id\n",
    "\tGROUP BY owner_user_id\n",
    "\tORDER BY n_answers DESC\n",
    "\tLIMIT 100\n",
    ")\n",
    "SELECT account.display_name, top100_posters.n_answers\n",
    "FROM account, so_user, site, top100_posters\n",
    "WHERE site.site_name = 'stackoverflow'\n",
    "\tAND account.id = so_user.account_id\n",
    "\tAND site.site_id = so_user.site_id\n",
    "\tAND so_user.id = top100_posters.owner_user_id;\n",
    "\"\"\")\n"
   ]
  },
  {
   "cell_type": "code",
   "execution_count": null,
   "metadata": {},
   "outputs": [],
   "source": [
    "parse_tree = pglast.parser.parse_sql_json(\"\"\"\n",
    "WITH t_a AS (SELECT 1),\n",
    "    t_b AS (SELECT 2)\n",
    "SELECT *\n",
    "FROM R, t_a, t_b\n",
    "\"\"\")\n",
    "json.loads(parse_tree)"
   ]
  },
  {
   "cell_type": "markdown",
   "metadata": {},
   "source": [
    "## Window functions"
   ]
  },
  {
   "cell_type": "code",
   "execution_count": null,
   "metadata": {},
   "outputs": [],
   "source": [
    "parse_tree = pglast.parser.parse_sql_json(\"SELECT LAG(a) OVER () FROM R\")\n",
    "json.loads(parse_tree)"
   ]
  },
  {
   "cell_type": "code",
   "execution_count": null,
   "metadata": {},
   "outputs": [],
   "source": [
    "parse_tree = pglast.parser.parse_sql_json(\"SELECT LAG(a) OVER () AS f FROM R\")\n",
    "json.loads(parse_tree)"
   ]
  },
  {
   "cell_type": "code",
   "execution_count": null,
   "metadata": {},
   "outputs": [],
   "source": [
    "parse_tree = pglast.parser.parse_sql_json(\"SELECT depname, empno, salary, avg(salary) OVER (PARTITION BY depname) FROM empsalary\")\n",
    "json.loads(parse_tree)"
   ]
  },
  {
   "cell_type": "code",
   "execution_count": null,
   "metadata": {},
   "outputs": [],
   "source": [
    "parse_tree = pglast.parser.parse_sql_json(\"\"\"\n",
    "SELECT depname, empno, salary,\n",
    "    rank() OVER (PARTITION BY depname ORDER BY salary DESC)\n",
    "FROM empsalary;\n",
    "\"\"\")\n",
    "json.loads(parse_tree)"
   ]
  },
  {
   "cell_type": "code",
   "execution_count": null,
   "metadata": {},
   "outputs": [],
   "source": [
    "parse_tree = pglast.parser.parse_sql_json(\"\"\"\n",
    "SELECT SUM(salary) OVER (PARTITION BY depname, empno ORDER BY salary DESC, empno)\n",
    "FROM empsalary;\n",
    "\"\"\")\n",
    "json.loads(parse_tree)"
   ]
  },
  {
   "cell_type": "code",
   "execution_count": null,
   "metadata": {},
   "outputs": [],
   "source": [
    "parse_tree = pglast.parser.parse_sql_json(\"\"\"\n",
    "SELECT SUM(salary) FILTER (WHERE salary > 100) OVER (PARTITION BY depname, empno ORDER BY salary DESC, empno)\n",
    "FROM empsalary;\n",
    "\"\"\")\n",
    "json.loads(parse_tree)"
   ]
  },
  {
   "cell_type": "code",
   "execution_count": null,
   "metadata": {},
   "outputs": [],
   "source": [
    "parse_tree = pglast.parser.parse_sql_json(\"SELECT 1\")\n",
    "json.loads(parse_tree)"
   ]
  },
  {
   "cell_type": "markdown",
   "metadata": {},
   "source": [
    "## Set operations"
   ]
  },
  {
   "cell_type": "code",
   "execution_count": null,
   "metadata": {},
   "outputs": [],
   "source": [
    "parse_tree = pglast.parser.parse_sql_json(\"SELECT 1 UNION SELECT 2\")\n",
    "json.loads(parse_tree)"
   ]
  },
  {
   "cell_type": "code",
   "execution_count": null,
   "metadata": {},
   "outputs": [],
   "source": [
    "parse_tree = pglast.parser.parse_sql_json(\"SELECT 1 UNION ALL SELECT 2\")\n",
    "json.loads(parse_tree)"
   ]
  },
  {
   "cell_type": "code",
   "execution_count": null,
   "metadata": {},
   "outputs": [],
   "source": [
    "parse_tree = pglast.parser.parse_sql_json(\"SELECT 1 EXCEPT SELECT 2\")\n",
    "json.loads(parse_tree)"
   ]
  },
  {
   "cell_type": "code",
   "execution_count": null,
   "metadata": {},
   "outputs": [],
   "source": [
    "parse_tree = pglast.parser.parse_sql_json(\"SELECT 1 INTERSECT SELECT 2\")\n",
    "json.loads(parse_tree)"
   ]
  },
  {
   "cell_type": "code",
   "execution_count": null,
   "metadata": {},
   "outputs": [],
   "source": [
    "parse_tree = pglast.parser.parse_sql_json(\"SELECT 1 EXCEPT SELECT 2 UNION SELECT 3\")\n",
    "json.loads(parse_tree)"
   ]
  },
  {
   "cell_type": "code",
   "execution_count": null,
   "metadata": {},
   "outputs": [],
   "source": [
    "parse_tree = pglast.parser.parse_sql_json(\"SELECT 1 EXCEPT (SELECT 2 UNION SELECT 3)\")\n",
    "json.loads(parse_tree)"
   ]
  }
 ],
 "metadata": {
  "kernelspec": {
   "display_name": "pb-venv",
   "language": "python",
   "name": "python3"
  },
  "language_info": {
   "codemirror_mode": {
    "name": "ipython",
    "version": 3
   },
   "file_extension": ".py",
   "mimetype": "text/x-python",
   "name": "python",
   "nbconvert_exporter": "python",
   "pygments_lexer": "ipython3",
   "version": "3.10.12"
  }
 },
 "nbformat": 4,
 "nbformat_minor": 2
}
